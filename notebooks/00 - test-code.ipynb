{
 "cells": [
  {
   "cell_type": "markdown",
   "id": "b95c229d",
   "metadata": {},
   "source": [
    "# Dummy Code for a prompt\n",
    "\n",
    "Need to test out some code for the prompt:\n",
    "\n",
    "```\n",
    "Plot the jet pT for all jets in mc23_13p6TeV:mc23_13p6TeV.801167.Py8EG_A14NNPDF23LO_jj_JZ2.deriv.DAOD_PHYSLITE.e8514_e8528_a911_s4114_r15224_r15225_p6697\n",
    "```"
   ]
  },
  {
   "cell_type": "code",
   "execution_count": null,
   "id": "02d2898c",
   "metadata": {},
   "outputs": [
    {
     "data": {
      "application/vnd.jupyter.widget-view+json": {
       "model_id": "3265ea246f1b4c048491d9d19fad4e0c",
       "version_major": 2,
       "version_minor": 0
      },
      "text/plain": [
       "Output()"
      ]
     },
     "metadata": {},
     "output_type": "display_data"
    },
    {
     "data": {
      "text/html": [
       "<pre style=\"white-space:pre;overflow-x:auto;line-height:normal;font-family:Menlo,'DejaVu Sans Mono',consolas,'Courier New',monospace\"></pre>\n"
      ],
      "text/plain": []
     },
     "metadata": {},
     "output_type": "display_data"
    },
    {
     "name": "stderr",
     "output_type": "stream",
     "text": [
      "c:\\Users\\gordo\\Code\\iris-hep\\atlas-plot-agent\\.venv\\Lib\\site-packages\\mplhep\\utils.py:577: UserWarning: Integer weights indicate poissonian data. Will calculate Garwood interval if ``scipy`` is installed. Otherwise errors will be set to ``sqrt(w2)``.\n",
      "  self.errors()\n"
     ]
    },
    {
     "data": {
      "image/png": "[encoded data removed]",
      "text/plain": [
       "<Figure size 640x480 with 1 Axes>"
      ]
     },
     "metadata": {},
     "output_type": "display_data"
    }
   ],
   "source": [
    "from func_adl_servicex_xaodr25 import FuncADLQueryPHYSLITE\n",
    "from servicex_analysis_utils import to_awk\n",
    "from servicex import deliver, ServiceXSpec, Sample, dataset\n",
    "\n",
    "import awkward as ak\n",
    "import matplotlib.pyplot as plt\n",
    "import hist\n",
    "\n",
    "# Define the dataset\n",
    "ds_name = \"mc23_13p6TeV:mc23_13p6TeV.801167.Py8EG_A14NNPDF23LO_jj_JZ2.deriv.DAOD_PHYSLITE.e8514_e8528_a911_s4114_r15224_r15225_p6697\"\n",
    "\n",
    "# Create ServiceX dataset and source running on PHYSLITE.\n",
    "phys_lite_base = FuncADLQueryPHYSLITE()\n",
    "\n",
    "# Query: get all jet pT\n",
    "jet_pts_query = phys_lite_base.SelectMany(lambda evt: evt.Jets()).Select(\n",
    "    lambda jet: {\"jet_pt\": jet.pt() / 1000.0}  # Default to plotting GeV not MeV\n",
    ")\n",
    "\n",
    "# Do the fetch\n",
    "all_jet_pts = to_awk(\n",
    "    deliver(\n",
    "        ServiceXSpec(\n",
    "            Sample=[\n",
    "                Sample(\n",
    "                    Name=\"jet_data\",\n",
    "                    Dataset=dataset.Rucio(ds_name),\n",
    "                    NFiles=1,\n",
    "                    Query=jet_pts_query,  # type: ignore\n",
    "                )\n",
    "            ]\n",
    "        ),\n",
    "        servicex_name=\"servicex-release-prod\",\n",
    "    )\n",
    ")\n",
    "\n",
    "# Create a histogram\n",
    "h = hist.Hist.new.Reg(100, 0, 500, name=\"jet_pt\", label=\"Jet $p_T$ [GeV]\").Double()\n",
    "h.fill(jet_pt=all_jet_pts[\"jet_data\"].jet_pt)\n",
    "\n",
    "# Plot\n",
    "fig, ax = plt.subplots()\n",
    "h.plot(ax=ax)\n",
    "ax.set_title(\"Jet $p_T$ for all jets\")\n",
    "plt.show()"
   ]
  }
 ],
 "metadata": {
  "kernelspec": {
   "display_name": ".venv",
   "language": "python",
   "name": "python3"
  },
  "language_info": {
   "codemirror_mode": {
    "name": "ipython",
    "version": 3
   },
   "file_extension": ".py",
   "mimetype": "text/x-python",
   "name": "python",
   "nbconvert_exporter": "python",
   "pygments_lexer": "ipython3",
   "version": "3.13.5"
  }
 },
 "nbformat": 4,
 "nbformat_minor": 5
}
