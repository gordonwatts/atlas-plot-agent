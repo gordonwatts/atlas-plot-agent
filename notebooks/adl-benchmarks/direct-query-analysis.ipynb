{
 "cells": [
  {
   "cell_type": "markdown",
   "id": "9bdd0669",
   "metadata": {},
   "source": [
    "# Direct Query Question Analysis\n",
    "\n",
    "The 8 `adl-benchmark` questions were listed [here](README.md). The details of the models used to run over them can be found [here](models.yaml). This notebook is an analysis of the results."
   ]
  },
  {
   "cell_type": "code",
   "execution_count": 2,
   "id": "971e3721",
   "metadata": {},
   "outputs": [],
   "source": [
    "import pandas as pd"
   ]
  },
  {
   "cell_type": "markdown",
   "id": "f8c13e60",
   "metadata": {},
   "source": [
    "The CSV results are written into all the `direct-question-xx.md` files found in this same directory. Use the following command to build a `results.csv` file which we can read in:\n",
    "\n",
    "```bash\n",
    "python ./notebooks/adl-benchmarks/query-results-to-pandas.py ./notebooks/adl-benchmarks/direct-question-*.md\n",
    "```"
   ]
  },
  {
   "cell_type": "code",
   "execution_count": 7,
   "id": "4a90f2d8",
   "metadata": {},
   "outputs": [
    {
     "data": {
      "text/html": [
       "<div>\n",
       "<style scoped>\n",
       "    .dataframe tbody tr th:only-of-type {\n",
       "        vertical-align: middle;\n",
       "    }\n",
       "\n",
       "    .dataframe tbody tr th {\n",
       "        vertical-align: top;\n",
       "    }\n",
       "\n",
       "    .dataframe thead th {\n",
       "        text-align: right;\n",
       "    }\n",
       "</style>\n",
       "<table border=\"1\" class=\"dataframe\">\n",
       "  <thead>\n",
       "    <tr style=\"text-align: right;\">\n",
       "      <th></th>\n",
       "      <th>Time (s)</th>\n",
       "      <th>Prompt Tokens</th>\n",
       "      <th>Completion Tokens</th>\n",
       "      <th>Total Tokens</th>\n",
       "      <th>Estimated Cost ($)</th>\n",
       "      <th>Attempts</th>\n",
       "    </tr>\n",
       "  </thead>\n",
       "  <tbody>\n",
       "    <tr>\n",
       "      <th>count</th>\n",
       "      <td>104.000000</td>\n",
       "      <td>104.000000</td>\n",
       "      <td>104.000000</td>\n",
       "      <td>104.000000</td>\n",
       "      <td>104.000000</td>\n",
       "      <td>104.000000</td>\n",
       "    </tr>\n",
       "    <tr>\n",
       "      <th>mean</th>\n",
       "      <td>69.061635</td>\n",
       "      <td>26945.673077</td>\n",
       "      <td>5205.509615</td>\n",
       "      <td>32151.182692</td>\n",
       "      <td>0.044625</td>\n",
       "      <td>2.105769</td>\n",
       "    </tr>\n",
       "    <tr>\n",
       "      <th>std</th>\n",
       "      <td>63.246728</td>\n",
       "      <td>12573.543038</td>\n",
       "      <td>6045.761022</td>\n",
       "      <td>16759.170674</td>\n",
       "      <td>0.049496</td>\n",
       "      <td>0.912888</td>\n",
       "    </tr>\n",
       "    <tr>\n",
       "      <th>min</th>\n",
       "      <td>4.290000</td>\n",
       "      <td>11639.000000</td>\n",
       "      <td>518.000000</td>\n",
       "      <td>12158.000000</td>\n",
       "      <td>0.001000</td>\n",
       "      <td>1.000000</td>\n",
       "    </tr>\n",
       "    <tr>\n",
       "      <th>25%</th>\n",
       "      <td>15.432500</td>\n",
       "      <td>11929.500000</td>\n",
       "      <td>1383.500000</td>\n",
       "      <td>14029.500000</td>\n",
       "      <td>0.009500</td>\n",
       "      <td>1.000000</td>\n",
       "    </tr>\n",
       "    <tr>\n",
       "      <th>50%</th>\n",
       "      <td>51.750000</td>\n",
       "      <td>26238.500000</td>\n",
       "      <td>3438.000000</td>\n",
       "      <td>30098.000000</td>\n",
       "      <td>0.025000</td>\n",
       "      <td>2.000000</td>\n",
       "    </tr>\n",
       "    <tr>\n",
       "      <th>75%</th>\n",
       "      <td>107.765000</td>\n",
       "      <td>38731.500000</td>\n",
       "      <td>6101.250000</td>\n",
       "      <td>44900.250000</td>\n",
       "      <td>0.065000</td>\n",
       "      <td>3.000000</td>\n",
       "    </tr>\n",
       "    <tr>\n",
       "      <th>max</th>\n",
       "      <td>319.660000</td>\n",
       "      <td>47529.000000</td>\n",
       "      <td>33525.000000</td>\n",
       "      <td>72598.000000</td>\n",
       "      <td>0.220000</td>\n",
       "      <td>3.000000</td>\n",
       "    </tr>\n",
       "  </tbody>\n",
       "</table>\n",
       "</div>"
      ],
      "text/plain": [
       "         Time (s)  Prompt Tokens  Completion Tokens  Total Tokens  \\\n",
       "count  104.000000     104.000000         104.000000    104.000000   \n",
       "mean    69.061635   26945.673077        5205.509615  32151.182692   \n",
       "std     63.246728   12573.543038        6045.761022  16759.170674   \n",
       "min      4.290000   11639.000000         518.000000  12158.000000   \n",
       "25%     15.432500   11929.500000        1383.500000  14029.500000   \n",
       "50%     51.750000   26238.500000        3438.000000  30098.000000   \n",
       "75%    107.765000   38731.500000        6101.250000  44900.250000   \n",
       "max    319.660000   47529.000000       33525.000000  72598.000000   \n",
       "\n",
       "       Estimated Cost ($)    Attempts  \n",
       "count          104.000000  104.000000  \n",
       "mean             0.044625    2.105769  \n",
       "std              0.049496    0.912888  \n",
       "min              0.001000    1.000000  \n",
       "25%              0.009500    1.000000  \n",
       "50%              0.025000    2.000000  \n",
       "75%              0.065000    3.000000  \n",
       "max              0.220000    3.000000  "
      ]
     },
     "execution_count": 7,
     "metadata": {},
     "output_type": "execute_result"
    }
   ],
   "source": [
    "data = pd.read_csv(\"../../results.csv\")\n",
    "data.describe()"
   ]
  },
  {
   "cell_type": "code",
   "execution_count": 8,
   "id": "325a93fe",
   "metadata": {},
   "outputs": [
    {
     "data": {
      "text/plain": [
       "Index(['Model(s)', 'Time (s)', 'Prompt Tokens', 'Completion Tokens',\n",
       "       'Total Tokens', 'Estimated Cost ($)', 'Attempts', 'Result',\n",
       "       'source_file'],\n",
       "      dtype='object')"
      ]
     },
     "execution_count": 8,
     "metadata": {},
     "output_type": "execute_result"
    }
   ],
   "source": [
    "data.columns"
   ]
  },
  {
   "cell_type": "markdown",
   "id": "8a2b1fd4",
   "metadata": {},
   "source": [
    "## Model Cost\n",
    "\n"
   ]
  }
 ],
 "metadata": {
  "kernelspec": {
   "display_name": ".venv",
   "language": "python",
   "name": "python3"
  },
  "language_info": {
   "codemirror_mode": {
    "name": "ipython",
    "version": 3
   },
   "file_extension": ".py",
   "mimetype": "text/x-python",
   "name": "python",
   "nbconvert_exporter": "python",
   "pygments_lexer": "ipython3",
   "version": "3.13.5"
  }
 },
 "nbformat": 4,
 "nbformat_minor": 5
}
