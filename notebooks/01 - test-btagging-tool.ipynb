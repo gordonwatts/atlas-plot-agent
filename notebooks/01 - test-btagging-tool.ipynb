{
 "cells": [
  {
   "cell_type": "markdown",
   "id": "c9ece1f5",
   "metadata": {},
   "source": [
    "# Using the BTagging Tool\n",
    "\n",
    "Getting a tool to work properly is a little tricky. We'll do that here, and then move it into the hints file."
   ]
  },
  {
   "cell_type": "code",
   "execution_count": 1,
   "id": "0bd2bda0",
   "metadata": {},
   "outputs": [],
   "source": [
    "from func_adl_servicex_xaodr25 import FuncADLQueryPHYSLITE\n",
    "from func_adl_servicex_xaodr25.xAOD.jet_v1 import Jet_v1\n",
    "from servicex_analysis_utils import to_awk\n",
    "from servicex import ServiceXSpec, Sample, dataset, deliver\n",
    "from func_adl import ObjectStream, func_adl_callable\n",
    "import ast\n",
    "from typing import Tuple, TypeVar\n",
    "# from servicex_local import deliver, LocalXAODCodegen, DockerScienceImage, SXLocalAdaptor, WSL2ScienceImage"
   ]
  },
  {
   "cell_type": "markdown",
   "id": "4f192c54",
   "metadata": {},
   "source": [
    "Setup the code properly!"
   ]
  },
  {
   "cell_type": "code",
   "execution_count": 2,
   "id": "a046613c",
   "metadata": {},
   "outputs": [],
   "source": [
    "physlite = FuncADLQueryPHYSLITE()"
   ]
  },
  {
   "cell_type": "markdown",
   "id": "4e822ca0",
   "metadata": {},
   "source": [
    "Now configure the tool to run\n",
    "\n",
    "- Taking examples from [use of the JetSelectionTool in the data extractor](https://github.com/gordonwatts/sx_training_fetch/blob/main/calratio_training_data/cpp_xaod_utils.py#L123)\n",
    "- BTaggingSelectionTool info from the [BTagging Docs](https://ftag.docs.cern.ch/calibrations/cdi/interface/btaggingefficiencytool/).\n",
    "- And from some [example code](https://gitlab.cern.ch/atlas/athena/-/blob/main/PhysicsAnalysis/JetTagging/JetTagPerformanceCalibration/xAODBTaggingEfficiency/util/BTaggingSelectionToolTester.cxx).\n",
    "- And a better [working example](https://gitlab.cern.ch/atlas/athena/-/blob/main/PhysicsAnalysis/JetTagging/JetTagPerformanceCalibration/xAODBTaggingEfficiency/util/BTaggingToolsExample.cxx)"
   ]
  },
  {
   "cell_type": "code",
   "execution_count": null,
   "id": "57a2e770",
   "metadata": {},
   "outputs": [],
   "source": [
    "from dataclasses import dataclass\n",
    "from typing import Callable, Iterable, List, Optional\n",
    "\n",
    "T = TypeVar(\"T\")\n",
    "\n",
    "\n",
    "@dataclass\n",
    "class ToolInfo:\n",
    "    name: str\n",
    "\n",
    "\n",
    "def make_a_tool(\n",
    "    query: ObjectStream[T],\n",
    "    tool_name: str,\n",
    "    tool_type: str,\n",
    "    include_files: Optional[List[str]],\n",
    "    init_lines: List[str] = [],\n",
    ") -> Tuple[ObjectStream[T], ToolInfo]:\n",
    "\n",
    "    # Define the C++ for the tool initialization\n",
    "\n",
    "    query_base = query.MetaData(\n",
    "        {\n",
    "            \"metadata_type\": \"inject_code\",\n",
    "            \"name\": tool_name,\n",
    "            \"header_includes\": include_files,\n",
    "            \"private_members\": [f\"{tool_type} *{tool_name};\"],\n",
    "            \"instance_initialization\": [\n",
    "                f'{tool_name}(new {tool_type} (\"{tool_name}\"))'\n",
    "            ],\n",
    "            \"initialize_lines\": [l.format(tool_name=tool_name) for l in init_lines],\n",
    "            \"link_libraries\": [\"xAODBTaggingEfficiencyLib\"],\n",
    "        }\n",
    "    )\n",
    "\n",
    "    return query_base, ToolInfo(name=tool_name)\n",
    "\n",
    "\n",
    "def make_tool_accessor(\n",
    "    t_info: ToolInfo,\n",
    "    function_name: str,\n",
    "    source_code: List[str],\n",
    "    arguments: Iterable[Tuple[str, type]],\n",
    "    return_type_cpp: str,\n",
    "):\n",
    "\n",
    "    # Define the callback function that `func_adl` will use to inject the calling code.\n",
    "    def tool_callback(\n",
    "        s: ObjectStream[T], a: ast.Call\n",
    "    ) -> Tuple[ObjectStream[T], ast.Call]:\n",
    "        new_s = s.MetaData(\n",
    "            {\n",
    "                \"metadata_type\": \"add_cpp_function\",\n",
    "                \"name\": function_name,\n",
    "                \"code\": [\n",
    "                    \"double result;\",\n",
    "                    *[l.format(tool_name=t_info.name) for l in source_code],\n",
    "                ],\n",
    "                \"result\": \"result\",\n",
    "                \"include_files\": [],\n",
    "                \"arguments\": [a[0] for a in arguments],\n",
    "                \"return_type\": return_type_cpp,\n",
    "            }\n",
    "        )\n",
    "        return new_s, a\n",
    "\n",
    "    # And a dummy of the tool that we are going to call\n",
    "    arg_dict = {name: typ for name, typ in arguments}\n",
    "\n",
    "    def tool_call(**arg_dict) -> return_type_cpp:\n",
    "        \"\"\"\n",
    "        NOTE: This is a dummy function that injects C++ into the object stream to do the\n",
    "        actual work.\n",
    "        \"\"\"\n",
    "        ...\n",
    "\n",
    "    return func_adl_callable(tool_callback)(tool_call)"
   ]
  },
  {
   "cell_type": "code",
   "execution_count": 4,
   "id": "24d7777f",
   "metadata": {},
   "outputs": [],
   "source": [
    "query_base, t_info = make_a_tool(\n",
    "    physlite,\n",
    "    \"btag_discriminator\",\n",
    "    \"BTaggingSelectionTool\",\n",
    "    include_files=[\"xAODBTaggingEfficiency/BTaggingSelectionTool.h\"],\n",
    "    init_lines=[\n",
    "        'ANA_CHECK(asg::setProperty({tool_name}, \"OperatingPoint\", \"FixedCutBEff_77\"));',\n",
    "        \"ANA_CHECK({tool_name}->initialize());\",\n",
    "    ],\n",
    ")\n",
    "\n",
    "tag_weight = make_tool_accessor(\n",
    "    t_info,\n",
    "    function_name=\"tag_weight\",\n",
    "    source_code=[\"ANA_CHECK({tool_name}->getTaggerWeight(*jet, result, false));\"],\n",
    "    arguments=[(\"jet\", Jet_v1)],\n",
    "    return_type_cpp=\"float\",\n",
    ")"
   ]
  },
  {
   "cell_type": "markdown",
   "id": "d8d63dfa",
   "metadata": {},
   "source": [
    "Some other info:\n",
    "\n",
    "* `13p6TeV/MC23_2025-06-17_GN2v01_v4.root` for Run 3 (MC23 files)\n",
    "* `13TeV/MC20_2025-06-17_GN2v01_v4.root` for Run 2 (MC20 files)\n",
    "\n",
    "It seems that we should not specify the btagging file - use whatever is default in the release."
   ]
  },
  {
   "cell_type": "markdown",
   "id": "a8f69afb",
   "metadata": {},
   "source": [
    "Next, define the code that will actually get the tag rate for us."
   ]
  },
  {
   "cell_type": "code",
   "execution_count": 5,
   "id": "5961c75b",
   "metadata": {},
   "outputs": [],
   "source": [
    "\n",
    "def tag_passed_callback(\n",
    "\n",
    "    s: ObjectStream[T], a: ast.Call\n",
    ") -> Tuple[ObjectStream[T], ast.Call]:\n",
    "\n",
    "    new_s = s.MetaData(\n",
    "        {\n",
    "            \"metadata_type\": \"add_cpp_function\",\n",
    "            \"name\": \"jet_is_tagged\",\n",
    "\n",
    "            \"code\": [f\"bool result = static_cast<bool>({t_info.name}->accept(*jet))\"],\n",
    "            \"result\": \"result\",\n",
    "\n",
    "\n",
    "            \"include_files\": [],\n",
    "            \"arguments\": [\"jet\"],\n",
    "            \"return_type\": \"bool\",\n",
    "        }\n",
    "    )\n",
    "\n",
    "    return new_s, a\n",
    "\n",
    "@func_adl_callable(tag_passed_callback)\n",
    "def jet_is_tagged(jet: Jet_v1) -> bool:\n",
    "    \"\"\"Call the jet selection on the jet.\n",
    "\n",
    "    * return true or false if the jet passes the selection cut.\n",
    "\n",
    "    Args:\n",
    "\n",
    "        jet (Jet_v1): The jet we are operating against\n",
    "        value_selector (int): Which value (pixel holes, etc.)\n",
    "\n",
    "    NOTE: This is a dummy function that injects C++ into the object stream to do the\n",
    "    actual work.\n",
    "\n",
    "    Returns:\n",
    "        bool: Is the jet b-tagged?\n",
    "    \"\"\"\n",
    "    ..."
   ]
  },
  {
   "cell_type": "markdown",
   "id": "41921e50",
   "metadata": {},
   "source": [
    "Finally, we can actually execute the query!"
   ]
  },
  {
   "cell_type": "code",
   "execution_count": 6,
   "id": "37473e4a",
   "metadata": {},
   "outputs": [
    {
     "name": "stderr",
     "output_type": "stream",
     "text": [
      "Unknown type for name tag_weight\n"
     ]
    }
   ],
   "source": [
    "query = (\n",
    "    query_base.SelectMany(lambda event: event.Jets())\n",
    "    .Where(lambda j: j.pt() > 20000 and abs(j.eta()) < 2)\n",
    "    .Select(\n",
    "        lambda j: {\n",
    "            \"is_tagged\": jet_is_tagged(j),\n",
    "            \"weight\": tag_weight(j),\n",
    "            \"pt\": j.pt(),\n",
    "            \"eta\": j.eta(),\n",
    "        }\n",
    "    )\n",
    ")"
   ]
  },
  {
   "cell_type": "markdown",
   "id": "ce494cb5",
   "metadata": {},
   "source": [
    "And now we can run on a data sample!"
   ]
  },
  {
   "cell_type": "code",
   "execution_count": 7,
   "id": "0beca722",
   "metadata": {},
   "outputs": [
    {
     "data": {
      "application/vnd.jupyter.widget-view+json": {
       "model_id": "d0024424399344cb9d67c404b0736535",
       "version_major": 2,
       "version_minor": 0
      },
      "text/plain": [
       "Output()"
      ]
     },
     "metadata": {},
     "output_type": "display_data"
    },
    {
     "data": {
      "text/html": [
       "<pre style=\"white-space:pre;overflow-x:auto;line-height:normal;font-family:Menlo,'DejaVu Sans Mono',consolas,'Courier New',monospace\"></pre>\n"
      ],
      "text/plain": []
     },
     "metadata": {},
     "output_type": "display_data"
    },
    {
     "ename": "ReturnValueException",
     "evalue": "Exception occurred while making ServiceX request.\nTraceback (most recent call last):\n  File \"c:\\Users\\gordo\\Code\\llm\\atlas-plot-agent\\.venv\\Lib\\site-packages\\servicex\\query_core.py\", line 655, in as_files_async\n    return await self.submit_and_download(\n           ^^^^^^^^^^^^^^^^^^^^^^^^^^^^^^^\n        signed_urls_only=False, expandable_progress=progress\n        ^^^^^^^^^^^^^^^^^^^^^^^^^^^^^^^^^^^^^^^^^^^^^^^^^^^^\n    )\n    ^\n  File \"c:\\Users\\gordo\\Code\\llm\\atlas-plot-agent\\.venv\\Lib\\site-packages\\servicex\\query_core.py\", line 327, in submit_and_download\n    self.request_id = await self.servicex.submit_transform(sx_request)\n                      ^^^^^^^^^^^^^^^^^^^^^^^^^^^^^^^^^^^^^^^^^^^^^^^^\n  File \"c:\\Users\\gordo\\Code\\llm\\atlas-plot-agent\\.venv\\Lib\\site-packages\\servicex\\servicex_adapter.py\", line 372, in submit_transform\n    raise RuntimeError(\n    ...<2 lines>...\n    )\nRuntimeError: ServiceX WebAPI Error during transformation submission: 500 - Something went wrong (Failed to generate translation code: Do not know how to call 'tag_weight')\n",
     "output_type": "error",
     "traceback": [
      "\u001b[31m---------------------------------------------------------------------------\u001b[39m",
      "\u001b[31mReturnValueException\u001b[39m                      Traceback (most recent call last)",
      "\u001b[36mCell\u001b[39m\u001b[36m \u001b[39m\u001b[32mIn[7]\u001b[39m\u001b[32m, line 2\u001b[39m\n\u001b[32m      1\u001b[39m ds_name = \u001b[33m\"\u001b[39m\u001b[33mmc23_13p6TeV:mc23_13p6TeV.601237.PhPy8EG_A14_ttbar_hdamp258p75_allhad.deriv.DAOD_PHYSLITE.e8514_s4369_r16083_p6697\u001b[39m\u001b[33m\"\u001b[39m\n\u001b[32m----> \u001b[39m\u001b[32m2\u001b[39m data = \u001b[43mto_awk\u001b[49m\u001b[43m(\u001b[49m\n\u001b[32m      3\u001b[39m \u001b[43m    \u001b[49m\u001b[43mdeliver\u001b[49m\u001b[43m(\u001b[49m\n\u001b[32m      4\u001b[39m \u001b[43m        \u001b[49m\u001b[43mServiceXSpec\u001b[49m\u001b[43m(\u001b[49m\n\u001b[32m      5\u001b[39m \u001b[43m            \u001b[49m\u001b[43mSample\u001b[49m\u001b[43m=\u001b[49m\u001b[43m[\u001b[49m\n\u001b[32m      6\u001b[39m \u001b[43m                \u001b[49m\u001b[43mSample\u001b[49m\u001b[43m(\u001b[49m\n\u001b[32m      7\u001b[39m \u001b[43m                    \u001b[49m\u001b[43mName\u001b[49m\u001b[43m=\u001b[49m\u001b[33;43m\"\u001b[39;49m\u001b[33;43mttbar_trijet\u001b[39;49m\u001b[33;43m\"\u001b[39;49m\u001b[43m,\u001b[49m\n\u001b[32m      8\u001b[39m \u001b[43m                    \u001b[49m\u001b[43mDataset\u001b[49m\u001b[43m=\u001b[49m\u001b[43mdataset\u001b[49m\u001b[43m.\u001b[49m\u001b[43mRucio\u001b[49m\u001b[43m(\u001b[49m\u001b[43mds_name\u001b[49m\u001b[43m)\u001b[49m\u001b[43m,\u001b[49m\n\u001b[32m      9\u001b[39m \u001b[43m                    \u001b[49m\u001b[43mNFiles\u001b[49m\u001b[43m=\u001b[49m\u001b[32;43m1\u001b[39;49m\u001b[43m,\u001b[49m\n\u001b[32m     10\u001b[39m \u001b[43m                    \u001b[49m\u001b[43mQuery\u001b[49m\u001b[43m=\u001b[49m\u001b[43mquery\u001b[49m\u001b[43m,\u001b[49m\u001b[43m  \u001b[49m\u001b[38;5;66;43;03m# type: ignore\u001b[39;49;00m\n\u001b[32m     11\u001b[39m \u001b[43m                \u001b[49m\u001b[43m)\u001b[49m\n\u001b[32m     12\u001b[39m \u001b[43m            \u001b[49m\u001b[43m]\u001b[49m\n\u001b[32m     13\u001b[39m \u001b[43m        \u001b[49m\u001b[43m)\u001b[49m\u001b[43m,\u001b[49m\n\u001b[32m     14\u001b[39m \u001b[43m    \u001b[49m\u001b[43m)\u001b[49m\n\u001b[32m     15\u001b[39m \u001b[43m)\u001b[49m\n\u001b[32m     16\u001b[39m jets = data[\u001b[33m\"\u001b[39m\u001b[33mttbar_trijet\u001b[39m\u001b[33m\"\u001b[39m]\n",
      "\u001b[36mFile \u001b[39m\u001b[32mc:\\Users\\gordo\\Code\\llm\\atlas-plot-agent\\.venv\\Lib\\site-packages\\servicex_analysis_utils\\materialization.py:56\u001b[39m, in \u001b[36mto_awk\u001b[39m\u001b[34m(deliver_dict, dask, iterator, **kwargs)\u001b[39m\n\u001b[32m     53\u001b[39m awk_arrays = {}\n\u001b[32m     55\u001b[39m \u001b[38;5;28;01mfor\u001b[39;00m sample, paths \u001b[38;5;129;01min\u001b[39;00m deliver_dict.items():\n\u001b[32m---> \u001b[39m\u001b[32m56\u001b[39m     \u001b[38;5;28;01mif\u001b[39;00m \u001b[38;5;129;01mnot\u001b[39;00m paths:\n\u001b[32m     57\u001b[39m         \u001b[38;5;28;01mraise\u001b[39;00m \u001b[38;5;167;01mValueError\u001b[39;00m(\u001b[33mf\u001b[39m\u001b[33m\"\u001b[39m\u001b[33mServiceX result path list for \u001b[39m\u001b[38;5;132;01m{\u001b[39;00msample\u001b[38;5;132;01m}\u001b[39;00m\u001b[33m cannot be empty.\u001b[39m\u001b[33m\"\u001b[39m)\n\u001b[32m     58\u001b[39m     \u001b[38;5;66;03m# Check file type\u001b[39;00m\n",
      "\u001b[36mFile \u001b[39m\u001b[32mc:\\Users\\gordo\\Code\\llm\\atlas-plot-agent\\.venv\\Lib\\site-packages\\servicex\\servicex_client.py:110\u001b[39m, in \u001b[36mGuardList.__len__\u001b[39m\u001b[34m(self)\u001b[39m\n\u001b[32m    108\u001b[39m \u001b[38;5;28;01mif\u001b[39;00m \u001b[38;5;129;01mnot\u001b[39;00m \u001b[38;5;28mself\u001b[39m.valid():\n\u001b[32m    109\u001b[39m     data = cast(\u001b[38;5;167;01mException\u001b[39;00m, \u001b[38;5;28mself\u001b[39m._data)\n\u001b[32m--> \u001b[39m\u001b[32m110\u001b[39m     \u001b[38;5;28;01mraise\u001b[39;00m data\n\u001b[32m    111\u001b[39m \u001b[38;5;28;01melse\u001b[39;00m:\n\u001b[32m    112\u001b[39m     data = cast(Sequence, \u001b[38;5;28mself\u001b[39m._data)\n",
      "\u001b[31mReturnValueException\u001b[39m: Exception occurred while making ServiceX request.\nTraceback (most recent call last):\n  File \"c:\\Users\\gordo\\Code\\llm\\atlas-plot-agent\\.venv\\Lib\\site-packages\\servicex\\query_core.py\", line 655, in as_files_async\n    return await self.submit_and_download(\n           ^^^^^^^^^^^^^^^^^^^^^^^^^^^^^^^\n        signed_urls_only=False, expandable_progress=progress\n        ^^^^^^^^^^^^^^^^^^^^^^^^^^^^^^^^^^^^^^^^^^^^^^^^^^^^\n    )\n    ^\n  File \"c:\\Users\\gordo\\Code\\llm\\atlas-plot-agent\\.venv\\Lib\\site-packages\\servicex\\query_core.py\", line 327, in submit_and_download\n    self.request_id = await self.servicex.submit_transform(sx_request)\n                      ^^^^^^^^^^^^^^^^^^^^^^^^^^^^^^^^^^^^^^^^^^^^^^^^\n  File \"c:\\Users\\gordo\\Code\\llm\\atlas-plot-agent\\.venv\\Lib\\site-packages\\servicex\\servicex_adapter.py\", line 372, in submit_transform\n    raise RuntimeError(\n    ...<2 lines>...\n    )\nRuntimeError: ServiceX WebAPI Error during transformation submission: 500 - Something went wrong (Failed to generate translation code: Do not know how to call 'tag_weight')\n"
     ]
    }
   ],
   "source": [
    "ds_name = \"mc23_13p6TeV:mc23_13p6TeV.601237.PhPy8EG_A14_ttbar_hdamp258p75_allhad.deriv.DAOD_PHYSLITE.e8514_s4369_r16083_p6697\"\n",
    "data = to_awk(\n",
    "    deliver(\n",
    "        ServiceXSpec(\n",
    "            Sample=[\n",
    "                Sample(\n",
    "                    Name=\"ttbar_trijet\",\n",
    "                    Dataset=dataset.Rucio(ds_name),\n",
    "                    NFiles=1,\n",
    "                    Query=query,  # type: ignore\n",
    "                )\n",
    "            ]\n",
    "        ),\n",
    "    )\n",
    ")\n",
    "jets = data[\"ttbar_trijet\"]"
   ]
  },
  {
   "cell_type": "code",
   "execution_count": null,
   "id": "3e6fa8d6",
   "metadata": {},
   "outputs": [],
   "source": [
    "jets"
   ]
  },
  {
   "cell_type": "code",
   "execution_count": null,
   "id": "224585bf",
   "metadata": {},
   "outputs": [],
   "source": []
  }
 ],
 "metadata": {
  "kernelspec": {
   "display_name": ".venv",
   "language": "python",
   "name": "python3"
  },
  "language_info": {
   "codemirror_mode": {
    "name": "ipython",
    "version": 3
   },
   "file_extension": ".py",
   "mimetype": "text/x-python",
   "name": "python",
   "nbconvert_exporter": "python",
   "pygments_lexer": "ipython3",
   "version": "3.13.5"
  }
 },
 "nbformat": 4,
 "nbformat_minor": 5
}
