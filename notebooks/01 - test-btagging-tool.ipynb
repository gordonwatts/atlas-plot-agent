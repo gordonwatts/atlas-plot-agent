{
 "cells": [
  {
   "cell_type": "markdown",
   "id": "c9ece1f5",
   "metadata": {},
   "source": [
    "# Using the BTagging Tool\n",
    "\n",
    "Getting a tool to work properly is a little tricky. We'll do that here, and then move it into the hints file."
   ]
  },
  {
   "cell_type": "code",
   "execution_count": 1,
   "id": "0bd2bda0",
   "metadata": {},
   "outputs": [],
   "source": [
    "from func_adl_servicex_xaodr25 import FuncADLQueryPHYSLITE\n",
    "from func_adl_servicex_xaodr25.xAOD.jet_v1 import Jet_v1\n",
    "from servicex_analysis_utils import to_awk\n",
    "from servicex import ServiceXSpec, Sample, dataset\n",
    "from func_adl import ObjectStream, func_adl_callable\n",
    "import ast\n",
    "from typing import Tuple, TypeVar\n",
    "from servicex_local import deliver, LocalXAODCodegen, DockerScienceImage, SXLocalAdaptor, WSL2ScienceImage"
   ]
  },
  {
   "cell_type": "markdown",
   "id": "4f192c54",
   "metadata": {},
   "source": [
    "Setup the code properly!"
   ]
  },
  {
   "cell_type": "code",
   "execution_count": 2,
   "id": "a046613c",
   "metadata": {},
   "outputs": [],
   "source": [
    "physlite = FuncADLQueryPHYSLITE()"
   ]
  },
  {
   "cell_type": "markdown",
   "id": "4e822ca0",
   "metadata": {},
   "source": [
    "Now configure the tool to run\n",
    "\n",
    "- Taking examples from [use of the JetSelectionTool in the data extractor](https://github.com/gordonwatts/sx_training_fetch/blob/main/calratio_training_data/cpp_xaod_utils.py#L123)\n",
    "- BTaggingSelectionTool info from the [BTagging Docs](https://ftag.docs.cern.ch/calibrations/cdi/interface/btaggingefficiencytool/).\n",
    "- And from some [example code](https://gitlab.cern.ch/atlas/athena/-/blob/main/PhysicsAnalysis/JetTagging/JetTagPerformanceCalibration/xAODBTaggingEfficiency/util/BTaggingSelectionToolTester.cxx).\n",
    "- And a better [working example](https://gitlab.cern.ch/atlas/athena/-/blob/main/PhysicsAnalysis/JetTagging/JetTagPerformanceCalibration/xAODBTaggingEfficiency/util/BTaggingToolsExample.cxx)"
   ]
  },
  {
   "cell_type": "code",
   "execution_count": 3,
   "id": "57a2e770",
   "metadata": {},
   "outputs": [],
   "source": [
    "cut_name = \"FixedCutBEff_77\"\n",
    "tool_name = f\"btag_selection_tool_{cut_name}\"\n",
    "\n",
    "\n",
    "query_base = physlite.MetaData(\n",
    "    {\n",
    "        \"metadata_type\": \"inject_code\",\n",
    "        \"name\": f\"btag_tool_{tool_name}\",\n",
    "        \"header_includes\": [\"xAODBTaggingEfficiency/BTaggingSelectionTool.h\"],\n",
    "        \"private_members\": [f\"BTaggingSelectionTool *{tool_name};\"],\n",
    "        \"instance_initialization\": [\n",
    "            f'{tool_name}(new BTaggingSelectionTool(\"{tool_name}\"))'\n",
    "        ],\n",
    "        \"initialize_lines\": [\n",
    "            # f'ANA_CHECK(asg::setProperty({tool_name}, \"FlvTagCutDefinitionsFileName\", \"13p6TeV/MC23_2025-06-17_GN2v01_v4.root\"));',\n",
    "            # f'ANA_CHECK(asg::setProperty({tool_name}, \"TaggerName\", \"\"));',\n",
    "            f'ANA_CHECK(asg::setProperty({tool_name}, \"OperatingPoint\", \"{cut_name}\"));',\n",
    "            # f'ANA_CHECK(asg::setProperty({tool_name}, \"JetAuthor\", \"AntiKt4EMPFlowJets\"));',  # Default is PFlowJets\n",
    "            # f'ANA_CHECK(asg::setProperty({tool_name}, \"MinPt\", 20000));',  # Default is 20 GeV\n",
    "            f\"ANA_CHECK({tool_name}->initialize());\",\n",
    "        ],\n",
    "        \"link_libraries\": [\"xAODBTaggingEfficiencyLib\"],\n",
    "    }\n",
    ")"
   ]
  },
  {
   "cell_type": "markdown",
   "id": "d8d63dfa",
   "metadata": {},
   "source": [
    "Some other info:\n",
    "\n",
    "* `13p6TeV/MC23_2025-06-17_GN2v01_v4.root` for Run 3 (MC23 files)\n",
    "* `13TeV/MC20_2025-06-17_GN2v01_v4.root` for Run 2 (MC20 files)\n",
    "\n",
    "Possible cut names refer to xx yy zz"
   ]
  },
  {
   "cell_type": "markdown",
   "id": "a8f69afb",
   "metadata": {},
   "source": [
    "Next, define the code that will actually get the tag rate for us."
   ]
  },
  {
   "cell_type": "code",
   "execution_count": 4,
   "id": "5961c75b",
   "metadata": {},
   "outputs": [],
   "source": [
    "T = TypeVar(\"T\")\n",
    "\n",
    "def tag_passed_callback(\n",
    "\n",
    "    s: ObjectStream[T], a: ast.Call\n",
    ") -> Tuple[ObjectStream[T], ast.Call]:\n",
    "\n",
    "    new_s = s.MetaData(\n",
    "        {\n",
    "            \"metadata_type\": \"add_cpp_function\",\n",
    "            \"name\": \"jet_is_tagged\",\n",
    "\n",
    "            \"code\": [f\"bool result = static_cast<bool>({tool_name}->accept(*jet))\"],\n",
    "            \"result\": \"result\",\n",
    "\n",
    "\n",
    "            \"include_files\": [],\n",
    "            \"arguments\": [\"jet\"],\n",
    "            \"return_type\": \"bool\",\n",
    "        }\n",
    "    )\n",
    "\n",
    "    return new_s, a\n",
    "\n",
    "@func_adl_callable(tag_passed_callback)\n",
    "def jet_is_tagged(jet: Jet_v1) -> bool:\n",
    "    \"\"\"Call the jet selection on the jet.\n",
    "\n",
    "    * return true or false if the jet passes the selection cut.\n",
    "\n",
    "    Args:\n",
    "\n",
    "        jet (Jet_v1): The jet we are operating against\n",
    "        value_selector (int): Which value (pixel holes, etc.)\n",
    "\n",
    "    NOTE: This is a dummy function that injects C++ into the object stream to do the\n",
    "    actual work.\n",
    "\n",
    "    Returns:\n",
    "        bool: Is the jet b-tagged?\n",
    "    \"\"\"\n",
    "    ...\n",
    "\n",
    "\n",
    "def tag_weight_callback(\n",
    "    s: ObjectStream[T], a: ast.Call\n",
    ") -> Tuple[ObjectStream[T], ast.Call]:\n",
    "    new_s = s.MetaData(\n",
    "        {\n",
    "            \"metadata_type\": \"add_cpp_function\",\n",
    "            \"name\": \"tag_weight\",\n",
    "            \"code\": [\n",
    "                \"double result;\",\n",
    "                f\"ANA_CHECK({tool_name}->getTaggerWeight(*jet, result, false));\",\n",
    "            ],\n",
    "            \"result\": \"result\",\n",
    "            \"include_files\": [],\n",
    "            \"arguments\": [\"jet\"],\n",
    "            \"return_type\": \"float\",\n",
    "        }\n",
    "    )\n",
    "    return new_s, a\n",
    "\n",
    "\n",
    "@func_adl_callable(tag_weight_callback)\n",
    "def tag_weight(jet: Jet_v1) -> float:\n",
    "    \"\"\"Do the b-tagging weight.\n",
    "\n",
    "    * return true or false if the jet passes the selection cut.\n",
    "\n",
    "    Args:\n",
    "        jet (Jet_v1): The jet we are operating against\n",
    "        value_selector (int): Which value (pixel holes, etc.)\n",
    "\n",
    "    NOTE: This is a dummy function that injects C++ into the object stream to do the\n",
    "    actual work.\n",
    "\n",
    "    Returns:\n",
    "        bool: Is the jet b-tagged?\n",
    "    \"\"\"\n",
    "    ..."
   ]
  },
  {
   "cell_type": "markdown",
   "id": "41921e50",
   "metadata": {},
   "source": [
    "Finally, we can actually execute the query!"
   ]
  },
  {
   "cell_type": "code",
   "execution_count": 5,
   "id": "37473e4a",
   "metadata": {},
   "outputs": [],
   "source": [
    "query = (\n",
    "    query_base.SelectMany(lambda event: event.Jets())\n",
    "    .Where(lambda j: j.pt() > 20000 and abs(j.eta()) < 2)\n",
    "    .Select(\n",
    "        lambda j: {\n",
    "            \"is_tagged\": jet_is_tagged(j),\n",
    "            \"weight\": tag_weight(j),\n",
    "            \"pt\": j.pt(),\n",
    "            \"eta\": j.eta(),\n",
    "        }\n",
    "    )\n",
    ")"
   ]
  },
  {
   "cell_type": "markdown",
   "id": "ce494cb5",
   "metadata": {},
   "source": [
    "And now we can run on a data sample!"
   ]
  },
  {
   "cell_type": "code",
   "execution_count": 7,
   "id": "0beca722",
   "metadata": {},
   "outputs": [
    {
     "name": "stderr",
     "output_type": "stream",
     "text": [
      "x509up certificate not found at /tmp/x509up\n"
     ]
    }
   ],
   "source": [
    "# ds_name = \"mc23_13p6TeV:mc23_13p6TeV.601237.PhPy8EG_A14_ttbar_hdamp258p75_allhad.deriv.DAOD_PHYSLITE.e8514_s4369_r16083_p6697\"\n",
    "# data = to_awk(\n",
    "#     deliver(\n",
    "#         ServiceXSpec(\n",
    "#             Sample=[\n",
    "#                 Sample(\n",
    "#                     Name=\"ttbar_trijet\",\n",
    "#                     Dataset=dataset.Rucio(ds_name),\n",
    "#                     NFiles=1,\n",
    "#                     Query=query,  # type: ignore\n",
    "#                 )\n",
    "#             ]\n",
    "#         ),\n",
    "#         servicex_name=\"servicex-release-prod\",\n",
    "#     )\n",
    "# )\n",
    "\n",
    "ds_name = \"../DAOD_PHYSLITE.43700999._001395.pool.root.1\"\n",
    "codegen = LocalXAODCodegen()\n",
    "science_runner = DockerScienceImage(\n",
    "    \"gitlab-registry.cern.ch/atlas/athena/analysisbase:25.2.41\"\n",
    ")\n",
    "# science_runner = WSL2ScienceImage(\"atlas_al9\", \"25.2.41\")\n",
    "adaptor = SXLocalAdaptor(codegen, science_runner, \"atlasr25\", \"http://localhost\")\n",
    "spec = ServiceXSpec(\n",
    "    Sample=[\n",
    "        Sample(\n",
    "            Name=\"ttbar_trijet\",\n",
    "            Dataset=dataset.FileList([ds_name]),\n",
    "            NFiles=1,\n",
    "            Query=query,  # type: ignore\n",
    "        )\n",
    "    ]\n",
    ")\n",
    "data = to_awk(\n",
    "    deliver(spec=spec, adaptor=adaptor, ignore_local_cache=True,),\n",
    ")\n",
    "jets = data[\"ttbar_trijet\"]"
   ]
  },
  {
   "cell_type": "code",
   "execution_count": 8,
   "id": "3e6fa8d6",
   "metadata": {},
   "outputs": [
    {
     "data": {
      "text/html": [
       "<pre>[{is_tagged: False, weight: -4.6, pt: 1.11e+05, eta: 1.33},\n",
       " {is_tagged: False, weight: -3.3, pt: 7.28e+04, eta: 1.57},\n",
       " {is_tagged: False, weight: -3.13, pt: 5.18e+04, eta: 1.76},\n",
       " {is_tagged: False, weight: -4.27, pt: 3.8e+04, eta: 0.933},\n",
       " {is_tagged: False, weight: -4.47, pt: 2.03e+04, eta: -0.574},\n",
       " {is_tagged: False, weight: -4.54, pt: 1.57e+05, eta: -0.773},\n",
       " {is_tagged: False, weight: -3.71, pt: 1.53e+05, eta: -1.11},\n",
       " {is_tagged: True, weight: 5.91, pt: 1.34e+05, eta: -0.94},\n",
       " {is_tagged: True, weight: 8.61, pt: 8.03e+04, eta: -0.313},\n",
       " {is_tagged: False, weight: -2.12, pt: 5.59e+04, eta: -1.67},\n",
       " ...,\n",
       " {is_tagged: False, weight: -3.21, pt: 2.41e+04, eta: -0.454},\n",
       " {is_tagged: False, weight: -3.26, pt: 6.35e+04, eta: -1.23},\n",
       " {is_tagged: False, weight: -3.26, pt: 4.32e+04, eta: -1.95},\n",
       " {is_tagged: False, weight: -3.9, pt: 9.7e+04, eta: -0.127},\n",
       " {is_tagged: False, weight: -3.64, pt: 5.45e+04, eta: -0.663},\n",
       " {is_tagged: False, weight: -4, pt: 4.77e+04, eta: -0.0884},\n",
       " {is_tagged: False, weight: -0.195, pt: 2.92e+04, eta: 1.5},\n",
       " {is_tagged: False, weight: -2.35, pt: 2.89e+04, eta: -1.49},\n",
       " {is_tagged: False, weight: -4.57, pt: 2.85e+04, eta: 1.78}]\n",
       "--------------------------------------------------------------\n",
       "backend: cpu\n",
       "nbytes: 2.3 MB\n",
       "type: 108528 * {\n",
       "    is_tagged: bool,\n",
       "    weight: float32,\n",
       "    pt: float64,\n",
       "    eta: float64\n",
       "}</pre>"
      ],
      "text/plain": [
       "<Array [{is_tagged: False, ...}, ..., {...}] type='108528 * {is_tagged: boo...'>"
      ]
     },
     "execution_count": 8,
     "metadata": {},
     "output_type": "execute_result"
    }
   ],
   "source": [
    "jets"
   ]
  },
  {
   "cell_type": "code",
   "execution_count": null,
   "id": "224585bf",
   "metadata": {},
   "outputs": [],
   "source": []
  }
 ],
 "metadata": {
  "kernelspec": {
   "display_name": ".venv",
   "language": "python",
   "name": "python3"
  },
  "language_info": {
   "codemirror_mode": {
    "name": "ipython",
    "version": 3
   },
   "file_extension": ".py",
   "mimetype": "text/x-python",
   "name": "python",
   "nbconvert_exporter": "python",
   "pygments_lexer": "ipython3",
   "version": "3.13.5"
  }
 },
 "nbformat": 4,
 "nbformat_minor": 5
}
