{
 "cells": [
  {
   "cell_type": "markdown",
   "id": "c9ece1f5",
   "metadata": {},
   "source": [
    "# Using the BTagging Tool\n",
    "\n",
    "Getting a tool to work properly is a little tricky. We'll do that here, and then move it into the hints file."
   ]
  },
  {
   "cell_type": "code",
   "execution_count": 1,
   "id": "0bd2bda0",
   "metadata": {},
   "outputs": [],
   "source": [
    "import awkward as ak\n",
    "import vector\n",
    "from func_adl_servicex_xaodr25 import FuncADLQueryPHYSLITE\n",
    "from func_adl_servicex_xaodr25.xAOD.jet_v1 import Jet_v1\n",
    "from servicex_analysis_utils import to_awk\n",
    "from servicex import deliver, ServiceXSpec, Sample, dataset\n",
    "from hist import Hist\n",
    "import matplotlib.pyplot as plt\n",
    "import mplhep as hep\n",
    "import numpy as np\n",
    "from func_adl import ObjectStream, func_adl_callable\n",
    "import ast\n",
    "from typing import Tuple, TypeVar\n"
   ]
  },
  {
   "cell_type": "markdown",
   "id": "4f192c54",
   "metadata": {},
   "source": [
    "Setup the code properly!"
   ]
  },
  {
   "cell_type": "code",
   "execution_count": 2,
   "id": "a046613c",
   "metadata": {},
   "outputs": [],
   "source": [
    "physlite = FuncADLQueryPHYSLITE()"
   ]
  },
  {
   "cell_type": "markdown",
   "id": "4e822ca0",
   "metadata": {},
   "source": [
    "Now configure the tool to run\n",
    "\n",
    "- Taking examples from [use of the JetSelectionTool in the data extractor](https://github.com/gordonwatts/sx_training_fetch/blob/main/calratio_training_data/cpp_xaod_utils.py#L123)\n",
    "- BTaggingSelectionTool info from the [BTagging Docs](https://ftag.docs.cern.ch/calibrations/cdi/interface/btaggingefficiencytool/).\n",
    "- And from some [example code](https://gitlab.cern.ch/atlas/athena/-/blob/main/PhysicsAnalysis/JetTagging/JetTagPerformanceCalibration/xAODBTaggingEfficiency/util/BTaggingSelectionToolTester.cxx).\n",
    "- And a better [working example](https://gitlab.cern.ch/atlas/athena/-/blob/main/PhysicsAnalysis/JetTagging/JetTagPerformanceCalibration/xAODBTaggingEfficiency/util/BTaggingToolsExample.cxx)"
   ]
  },
  {
   "cell_type": "code",
   "execution_count": null,
   "id": "57a2e770",
   "metadata": {},
   "outputs": [],
   "source": [
    "cut_name = \"FixedCutBEff_77\"\n",
    "tool_name = f\"btag_selection_tool_{cut_name}\"\n",
    "\n",
    "\n",
    "query_base = physlite.MetaData(\n",
    "    {\n",
    "        \"metadata_type\": \"inject_code\",\n",
    "        \"name\": f\"btag_tool_{tool_name}\",\n",
    "        \"header_includes\": [\"xAODBTaggingEfficiency/BTaggingSelectionTool.h\"],\n",
    "        \"private_members\": [f\"IBTaggingSelectionTool *{tool_name};\"],\n",
    "        \"instance_initialization\": [\n",
    "            f'{tool_name}(new BTaggingSelectionTool(\"{tool_name}\"))'\n",
    "        ],\n",
    "        \"initialize_lines\": [\n",
    "            f'ANA_CHECK(asg::setProperty({tool_name}, \"FlvTagCutDefinitionsFileName\", \"13p6TeV/MC23_2025-06-17_GN2v01_v4.root\"));',\n",
    "            # f'ANA_CHECK(asg::setProperty({tool_name}, \"TaggerName\", \"\"));',\n",
    "            f'ANA_CHECK(asg::setProperty({tool_name}, \"OperatingPoint\", \"{cut_name}\"));',\n",
    "            # f'ANA_CHECK(asg::setProperty({tool_name}, \"JetAuthor\", \"AntiKt4EMPFlowJets\"));',  # Default is PFlowJets\n",
    "            # f'ANA_CHECK(asg::setProperty({tool_name}, \"MinPt\", 20000));',  # Default is 20 GeV\n",
    "            f\"ANA_CHECK({tool_name}->initialize());\",\n",
    "        ],\n",
    "        \"link_libraries\": [\"xAODBTaggingEfficiency\"],\n",
    "    }\n",
    ")"
   ]
  },
  {
   "cell_type": "markdown",
   "id": "d8d63dfa",
   "metadata": {},
   "source": [
    "Some other info:\n",
    "\n",
    "* `13p6TeV/MC23_2025-06-17_GN2v01_v4.root` for Run 3 (MC23 files)\n",
    "* `13TeV/MC20_2025-06-17_GN2v01_v4.root` for Run 2 (MC20 files)\n",
    "\n",
    "Possible cut names refer to xx yy zz"
   ]
  },
  {
   "cell_type": "markdown",
   "id": "a8f69afb",
   "metadata": {},
   "source": [
    "Next, define the code that will actually get the tag rate for us."
   ]
  },
  {
   "cell_type": "code",
   "execution_count": 4,
   "id": "5961c75b",
   "metadata": {},
   "outputs": [],
   "source": [
    "T = TypeVar(\"T\")\n",
    "\n",
    "def tag_passed_callback(\n",
    "    s: ObjectStream[T], a: ast.Call\n",
    ") -> Tuple[ObjectStream[T], ast.Call]:\n",
    "    new_s = s.MetaData(\n",
    "        {\n",
    "            \"metadata_type\": \"add_cpp_function\",\n",
    "            \"name\": \"jet_is_tagged\",\n",
    "            \"code\": [f\"bool result = static_cast<bool>({tool_name}->accept(*jet))\"],\n",
    "            \"result\": \"result\",\n",
    "            \"include_files\": [],\n",
    "            \"arguments\": [\"jet\"],\n",
    "            \"return_type\": \"bool\",\n",
    "        }\n",
    "    )\n",
    "    return new_s, a\n",
    "\n",
    "\n",
    "@func_adl_callable(tag_passed_callback)\n",
    "def jet_is_tagged(jet: Jet_v1) -> bool:\n",
    "    \"\"\"Call the jet selection on the jet.\n",
    "\n",
    "    * return true or false if the jet passes the selection cut.\n",
    "\n",
    "    Args:\n",
    "        jet (Jet_v1): The jet we are operating against\n",
    "        value_selector (int): Which value (pixel holes, etc.)\n",
    "\n",
    "    NOTE: This is a dummy function that injects C++ into the object stream to do the\n",
    "    actual work.\n",
    "\n",
    "    Returns:\n",
    "        bool: Is the jet b-tagged?\n",
    "    \"\"\"\n",
    "    ..."
   ]
  },
  {
   "cell_type": "markdown",
   "id": "41921e50",
   "metadata": {},
   "source": [
    "Finally, we can actually execute the query!"
   ]
  },
  {
   "cell_type": "code",
   "execution_count": 5,
   "id": "37473e4a",
   "metadata": {},
   "outputs": [],
   "source": [
    "query = (\n",
    "    query_base.SelectMany(lambda event: event.Jets())\n",
    "    .Where(lambda j: j.pt() > 20000 and abs(j.eta()) < 2)\n",
    "    .Select(\n",
    "        lambda j: {\n",
    "            \"is_tagged\": jet_is_tagged(j),\n",
    "            \"pt\": j.pt(),\n",
    "            \"eta\": j.eta(),\n",
    "        }\n",
    "    )\n",
    ")"
   ]
  },
  {
   "cell_type": "markdown",
   "id": "ce494cb5",
   "metadata": {},
   "source": [
    "And now we can run on a data sample!"
   ]
  },
  {
   "cell_type": "code",
   "execution_count": 6,
   "id": "0beca722",
   "metadata": {},
   "outputs": [
    {
     "data": {
      "application/vnd.jupyter.widget-view+json": {
       "model_id": "c29de1f36b6a4a3c809ee6e0b59434ea",
       "version_major": 2,
       "version_minor": 0
      },
      "text/plain": [
       "Output()"
      ]
     },
     "metadata": {},
     "output_type": "display_data"
    },
    {
     "data": {
      "text/html": [
       "<pre style=\"white-space:pre;overflow-x:auto;line-height:normal;font-family:Menlo,'DejaVu Sans Mono',consolas,'Courier New',monospace\"><span style=\"color: #7fbfbf; text-decoration-color: #7fbfbf\">[07/07/25 14:11:05] </span><span style=\"color: #800000; text-decoration-color: #800000; font-weight: bold\">ERROR   </span> Transform <span style=\"color: #008000; text-decoration-color: #008000\">\"ttbar_trijet\"</span> completed with failures: <span style=\"color: #008080; text-decoration-color: #008080; font-weight: bold\">1</span>/<span style=\"color: #008080; text-decoration-color: #008080; font-weight: bold\">1</span> files          <a href=\"file://c:\\Users\\gordo\\Code\\llm\\atlas-plot-agent\\.venv\\Lib\\site-packages\\servicex\\query_core.py\" target=\"_blank\"><span style=\"color: #7f7f7f; text-decoration-color: #7f7f7f\">query_core.py</span></a><span style=\"color: #7f7f7f; text-decoration-color: #7f7f7f\">:</span><a href=\"file://c:\\Users\\gordo\\Code\\llm\\atlas-plot-agent\\.venv\\Lib\\site-packages\\servicex\\query_core.py#236\" target=\"_blank\"><span style=\"color: #7f7f7f; text-decoration-color: #7f7f7f\">236</span></a>\n",
       "<span style=\"color: #7fbfbf; text-decoration-color: #7fbfbf\">                    </span>         failed.Will not cache.                                               <span style=\"color: #7f7f7f; text-decoration-color: #7f7f7f\">                 </span>\n",
       "</pre>\n"
      ],
      "text/plain": [
       "\u001b[2;36m[07/07/25 14:11:05]\u001b[0m\u001b[2;36m \u001b[0m\u001b[1;31mERROR   \u001b[0m Transform \u001b[32m\"ttbar_trijet\"\u001b[0m completed with failures: \u001b[1;36m1\u001b[0m/\u001b[1;36m1\u001b[0m files          \u001b]8;id=895549;file://c:\\Users\\gordo\\Code\\llm\\atlas-plot-agent\\.venv\\Lib\\site-packages\\servicex\\query_core.py\u001b\\\u001b[2mquery_core.py\u001b[0m\u001b]8;;\u001b\\\u001b[2m:\u001b[0m\u001b]8;id=63152;file://c:\\Users\\gordo\\Code\\llm\\atlas-plot-agent\\.venv\\Lib\\site-packages\\servicex\\query_core.py#236\u001b\\\u001b[2m236\u001b[0m\u001b]8;;\u001b\\\n",
       "\u001b[2;36m                    \u001b[0m         failed.Will not cache.                                               \u001b[2m                 \u001b[0m\n"
      ]
     },
     "metadata": {},
     "output_type": "display_data"
    },
    {
     "data": {
      "text/html": [
       "<pre style=\"white-space:pre;overflow-x:auto;line-height:normal;font-family:Menlo,'DejaVu Sans Mono',consolas,'Courier New',monospace\"><span style=\"color: #7fbfbf; text-decoration-color: #7fbfbf\">                    </span><span style=\"color: #800000; text-decoration-color: #800000; font-weight: bold\">ERROR   </span> A list of failed files is at <a href=\"https://servicex-release-prod.servicex.ssl-hep.org//transformation-request//9575cf6c-41a5-41a9-af36-006dd3b0ac70/results?status=failure\" target=\"_blank\"><span style=\"color: #800000; text-decoration-color: #800000; background-color: #c0c0c0; font-weight: bold\">this link</span></a>                               <a href=\"file://c:\\Users\\gordo\\Code\\llm\\atlas-plot-agent\\.venv\\Lib\\site-packages\\servicex\\query_core.py\" target=\"_blank\"><span style=\"color: #7f7f7f; text-decoration-color: #7f7f7f\">query_core.py</span></a><span style=\"color: #7f7f7f; text-decoration-color: #7f7f7f\">:</span><a href=\"file://c:\\Users\\gordo\\Code\\llm\\atlas-plot-agent\\.venv\\Lib\\site-packages\\servicex\\query_core.py#237\" target=\"_blank\"><span style=\"color: #7f7f7f; text-decoration-color: #7f7f7f\">237</span></a>\n",
       "</pre>\n"
      ],
      "text/plain": [
       "\u001b[2;36m                   \u001b[0m\u001b[2;36m \u001b[0m\u001b[1;31mERROR   \u001b[0m A list of failed files is at \u001b]8;id=698385;https://servicex-release-prod.servicex.ssl-hep.org//transformation-request//9575cf6c-41a5-41a9-af36-006dd3b0ac70/results?status=failure\u001b\\\u001b[1;31;47mthis link\u001b[0m\u001b]8;;\u001b\\                               \u001b]8;id=762412;file://c:\\Users\\gordo\\Code\\llm\\atlas-plot-agent\\.venv\\Lib\\site-packages\\servicex\\query_core.py\u001b\\\u001b[2mquery_core.py\u001b[0m\u001b]8;;\u001b\\\u001b[2m:\u001b[0m\u001b]8;id=366622;file://c:\\Users\\gordo\\Code\\llm\\atlas-plot-agent\\.venv\\Lib\\site-packages\\servicex\\query_core.py#237\u001b\\\u001b[2m237\u001b[0m\u001b]8;;\u001b\\\n"
      ]
     },
     "metadata": {},
     "output_type": "display_data"
    },
    {
     "data": {
      "text/html": [
       "<pre style=\"white-space:pre;overflow-x:auto;line-height:normal;font-family:Menlo,'DejaVu Sans Mono',consolas,'Courier New',monospace\"><span style=\"color: #7fbfbf; text-decoration-color: #7fbfbf\">                    </span><span style=\"color: #800000; text-decoration-color: #800000; font-weight: bold\">ERROR   </span> Transform Request id: <span style=\"color: #ffff00; text-decoration-color: #ffff00\">9575cf6c-41a5-41a9-af36-006dd3b0ac70</span>           <a href=\"file://c:\\Users\\gordo\\Code\\llm\\atlas-plot-agent\\.venv\\Lib\\site-packages\\servicex\\query_core.py\" target=\"_blank\"><span style=\"color: #7f7f7f; text-decoration-color: #7f7f7f\">query_core.py</span></a><span style=\"color: #7f7f7f; text-decoration-color: #7f7f7f\">:</span><a href=\"file://c:\\Users\\gordo\\Code\\llm\\atlas-plot-agent\\.venv\\Lib\\site-packages\\servicex\\query_core.py#238\" target=\"_blank\"><span style=\"color: #7f7f7f; text-decoration-color: #7f7f7f\">238</span></a>\n",
       "</pre>\n"
      ],
      "text/plain": [
       "\u001b[2;36m                   \u001b[0m\u001b[2;36m \u001b[0m\u001b[1;31mERROR   \u001b[0m Transform Request id: \u001b[93m9575cf6c-41a5-41a9-af36-006dd3b0ac70\u001b[0m           \u001b]8;id=68400;file://c:\\Users\\gordo\\Code\\llm\\atlas-plot-agent\\.venv\\Lib\\site-packages\\servicex\\query_core.py\u001b\\\u001b[2mquery_core.py\u001b[0m\u001b]8;;\u001b\\\u001b[2m:\u001b[0m\u001b]8;id=480829;file://c:\\Users\\gordo\\Code\\llm\\atlas-plot-agent\\.venv\\Lib\\site-packages\\servicex\\query_core.py#238\u001b\\\u001b[2m238\u001b[0m\u001b]8;;\u001b\\\n"
      ]
     },
     "metadata": {},
     "output_type": "display_data"
    },
    {
     "data": {
      "text/html": [
       "<pre style=\"white-space:pre;overflow-x:auto;line-height:normal;font-family:Menlo,'DejaVu Sans Mono',consolas,'Courier New',monospace\"><span style=\"color: #7fbfbf; text-decoration-color: #7fbfbf\">                    </span><span style=\"color: #800000; text-decoration-color: #800000; font-weight: bold\">ERROR   </span> More information of <span style=\"color: #008000; text-decoration-color: #008000\">'ttbar_trijet'</span> <a href=\"https://atlas-kibana.mwt2.org:5601/s/servicex/app/dashboards?auth_provider_hint=anonymous1#/view/4f197320-f34e-11ed-a6d8-9f6a16cd6d78?embed=true&_g=(time:(from:now-30d%2Fd,to:now))&_a=(filters:!((query:(match_phrase:(requestId:'9575cf6c-41a5-41a9-af36-006dd3b0ac70'))),(query:(match_phrase:(level:'error')))))&show-time-filter=true\" target=\"_blank\"><span style=\"color: #800000; text-decoration-color: #800000; background-color: #c0c0c0; font-weight: bold\">HERE</span></a>                              <a href=\"file://c:\\Users\\gordo\\Code\\llm\\atlas-plot-agent\\.venv\\Lib\\site-packages\\servicex\\query_core.py\" target=\"_blank\"><span style=\"color: #7f7f7f; text-decoration-color: #7f7f7f\">query_core.py</span></a><span style=\"color: #7f7f7f; text-decoration-color: #7f7f7f\">:</span><a href=\"file://c:\\Users\\gordo\\Code\\llm\\atlas-plot-agent\\.venv\\Lib\\site-packages\\servicex\\query_core.py#248\" target=\"_blank\"><span style=\"color: #7f7f7f; text-decoration-color: #7f7f7f\">248</span></a>\n",
       "</pre>\n"
      ],
      "text/plain": [
       "\u001b[2;36m                   \u001b[0m\u001b[2;36m \u001b[0m\u001b[1;31mERROR   \u001b[0m More information of \u001b[32m'ttbar_trijet'\u001b[0m \u001b]8;id=62097;https://atlas-kibana.mwt2.org:5601/s/servicex/app/dashboards?auth_provider_hint=anonymous1#/view/4f197320-f34e-11ed-a6d8-9f6a16cd6d78?embed=true&_g=(time:(from:now-30d%2Fd,to:now))&_a=(filters:!((query:(match_phrase:(requestId:'9575cf6c-41a5-41a9-af36-006dd3b0ac70'))),(query:(match_phrase:(level:'error')))))&show-time-filter=true\u001b\\\u001b[1;31;47mHERE\u001b[0m\u001b]8;;\u001b\\                              \u001b]8;id=711617;file://c:\\Users\\gordo\\Code\\llm\\atlas-plot-agent\\.venv\\Lib\\site-packages\\servicex\\query_core.py\u001b\\\u001b[2mquery_core.py\u001b[0m\u001b]8;;\u001b\\\u001b[2m:\u001b[0m\u001b]8;id=230720;file://c:\\Users\\gordo\\Code\\llm\\atlas-plot-agent\\.venv\\Lib\\site-packages\\servicex\\query_core.py#248\u001b\\\u001b[2m248\u001b[0m\u001b]8;;\u001b\\\n"
      ]
     },
     "metadata": {},
     "output_type": "display_data"
    },
    {
     "data": {
      "text/html": [
       "<pre style=\"white-space:pre;overflow-x:auto;line-height:normal;font-family:Menlo,'DejaVu Sans Mono',consolas,'Courier New',monospace\">Exception in callback Query.submit_and_download.&lt;locals&gt;.transform_complete() at \n",
       "c:\\Users\\gordo\\Code\\llm\\atlas-plot-agent\\.venv\\Lib\\site-packages\\servicex\\query_core.py:195\n",
       "handle: &lt;Handle Query.submit_and_download.&lt;locals&gt;.transform_complete() at \n",
       "c:\\Users\\gordo\\Code\\llm\\atlas-plot-agent\\.venv\\Lib\\site-packages\\servicex\\query_core.py:195&gt;\n",
       "Traceback (most recent call last):\n",
       "  File \"C:\\Users\\gordo\\AppData\\Local\\Programs\\Python\\Python313\\Lib\\asyncio\\events.py\", line 89, in _run\n",
       "    self._context.run(self._callback, *self._args)\n",
       "    ~~~~~~~~~~~~~~~~~^^^^^^^^^^^^^^^^^^^^^^^^^^^^^\n",
       "  File \"c:\\Users\\gordo\\Code\\llm\\atlas-plot-agent\\.venv\\Lib\\site-packages\\servicex\\query_core.py\", line 253, in \n",
       "transform_complete\n",
       "    raise ServiceXException(errorstr)\n",
       "servicex.query_core.ServiceXException: Transform \"ttbar_trijet\" completed with failures: 1/1 files failed.Will not \n",
       "cache.\n",
       "</pre>\n"
      ],
      "text/plain": [
       "Exception in callback Query.submit_and_download.<locals>.transform_complete() at \n",
       "c:\\Users\\gordo\\Code\\llm\\atlas-plot-agent\\.venv\\Lib\\site-packages\\servicex\\query_core.py:195\n",
       "handle: <Handle Query.submit_and_download.<locals>.transform_complete() at \n",
       "c:\\Users\\gordo\\Code\\llm\\atlas-plot-agent\\.venv\\Lib\\site-packages\\servicex\\query_core.py:195>\n",
       "Traceback (most recent call last):\n",
       "  File \"C:\\Users\\gordo\\AppData\\Local\\Programs\\Python\\Python313\\Lib\\asyncio\\events.py\", line 89, in _run\n",
       "    self._context.run(self._callback, *self._args)\n",
       "    ~~~~~~~~~~~~~~~~~^^^^^^^^^^^^^^^^^^^^^^^^^^^^^\n",
       "  File \"c:\\Users\\gordo\\Code\\llm\\atlas-plot-agent\\.venv\\Lib\\site-packages\\servicex\\query_core.py\", line 253, in \n",
       "transform_complete\n",
       "    raise ServiceXException(errorstr)\n",
       "servicex.query_core.ServiceXException: Transform \"ttbar_trijet\" completed with failures: 1/1 files failed.Will not \n",
       "cache.\n"
      ]
     },
     "metadata": {},
     "output_type": "display_data"
    },
    {
     "data": {
      "text/html": [
       "<pre style=\"white-space:pre;overflow-x:auto;line-height:normal;font-family:Menlo,'DejaVu Sans Mono',consolas,'Courier New',monospace\"></pre>\n"
      ],
      "text/plain": []
     },
     "metadata": {},
     "output_type": "display_data"
    },
    {
     "ename": "ValueError",
     "evalue": "ServiceX result path list for ttbar_trijet cannot be empty.",
     "output_type": "error",
     "traceback": [
      "\u001b[31m---------------------------------------------------------------------------\u001b[39m",
      "\u001b[31mValueError\u001b[39m                                Traceback (most recent call last)",
      "\u001b[36mCell\u001b[39m\u001b[36m \u001b[39m\u001b[32mIn[6]\u001b[39m\u001b[32m, line 3\u001b[39m\n\u001b[32m      1\u001b[39m ds_name = \u001b[33m\"\u001b[39m\u001b[33mmc23_13p6TeV:mc23_13p6TeV.601237.PhPy8EG_A14_ttbar_hdamp258p75_allhad.deriv.DAOD_PHYSLITE.e8514_s4369_r16083_p6697\u001b[39m\u001b[33m\"\u001b[39m\n\u001b[32m----> \u001b[39m\u001b[32m3\u001b[39m data = \u001b[43mto_awk\u001b[49m\u001b[43m(\u001b[49m\n\u001b[32m      4\u001b[39m \u001b[43m    \u001b[49m\u001b[43mdeliver\u001b[49m\u001b[43m(\u001b[49m\n\u001b[32m      5\u001b[39m \u001b[43m        \u001b[49m\u001b[43mServiceXSpec\u001b[49m\u001b[43m(\u001b[49m\n\u001b[32m      6\u001b[39m \u001b[43m            \u001b[49m\u001b[43mSample\u001b[49m\u001b[43m=\u001b[49m\u001b[43m[\u001b[49m\n\u001b[32m      7\u001b[39m \u001b[43m                \u001b[49m\u001b[43mSample\u001b[49m\u001b[43m(\u001b[49m\n\u001b[32m      8\u001b[39m \u001b[43m                    \u001b[49m\u001b[43mName\u001b[49m\u001b[43m=\u001b[49m\u001b[33;43m\"\u001b[39;49m\u001b[33;43mttbar_trijet\u001b[39;49m\u001b[33;43m\"\u001b[39;49m\u001b[43m,\u001b[49m\n\u001b[32m      9\u001b[39m \u001b[43m                    \u001b[49m\u001b[43mDataset\u001b[49m\u001b[43m=\u001b[49m\u001b[43mdataset\u001b[49m\u001b[43m.\u001b[49m\u001b[43mRucio\u001b[49m\u001b[43m(\u001b[49m\u001b[43mds_name\u001b[49m\u001b[43m)\u001b[49m\u001b[43m,\u001b[49m\n\u001b[32m     10\u001b[39m \u001b[43m                    \u001b[49m\u001b[43mNFiles\u001b[49m\u001b[43m=\u001b[49m\u001b[32;43m1\u001b[39;49m\u001b[43m,\u001b[49m\n\u001b[32m     11\u001b[39m \u001b[43m                    \u001b[49m\u001b[43mQuery\u001b[49m\u001b[43m=\u001b[49m\u001b[43mquery\u001b[49m\u001b[43m,\u001b[49m\u001b[43m  \u001b[49m\u001b[38;5;66;43;03m# type: ignore\u001b[39;49;00m\n\u001b[32m     12\u001b[39m \u001b[43m                \u001b[49m\u001b[43m)\u001b[49m\n\u001b[32m     13\u001b[39m \u001b[43m            \u001b[49m\u001b[43m]\u001b[49m\n\u001b[32m     14\u001b[39m \u001b[43m        \u001b[49m\u001b[43m)\u001b[49m\u001b[43m,\u001b[49m\n\u001b[32m     15\u001b[39m \u001b[43m        \u001b[49m\u001b[43mservicex_name\u001b[49m\u001b[43m=\u001b[49m\u001b[33;43m\"\u001b[39;49m\u001b[33;43mservicex-release-prod\u001b[39;49m\u001b[33;43m\"\u001b[39;49m\u001b[43m,\u001b[49m\n\u001b[32m     16\u001b[39m \u001b[43m    \u001b[49m\u001b[43m)\u001b[49m\n\u001b[32m     17\u001b[39m \u001b[43m)\u001b[49m\n\u001b[32m     18\u001b[39m jets = data[\u001b[33m\"\u001b[39m\u001b[33mttbar_trijet\u001b[39m\u001b[33m\"\u001b[39m]\n",
      "\u001b[36mFile \u001b[39m\u001b[32mc:\\Users\\gordo\\Code\\llm\\atlas-plot-agent\\.venv\\Lib\\site-packages\\servicex_analysis_utils\\materialization.py:57\u001b[39m, in \u001b[36mto_awk\u001b[39m\u001b[34m(deliver_dict, dask, iterator, **kwargs)\u001b[39m\n\u001b[32m     55\u001b[39m \u001b[38;5;28;01mfor\u001b[39;00m sample, paths \u001b[38;5;129;01min\u001b[39;00m deliver_dict.items():\n\u001b[32m     56\u001b[39m     \u001b[38;5;28;01mif\u001b[39;00m \u001b[38;5;129;01mnot\u001b[39;00m paths:\n\u001b[32m---> \u001b[39m\u001b[32m57\u001b[39m         \u001b[38;5;28;01mraise\u001b[39;00m \u001b[38;5;167;01mValueError\u001b[39;00m(\u001b[33mf\u001b[39m\u001b[33m\"\u001b[39m\u001b[33mServiceX result path list for \u001b[39m\u001b[38;5;132;01m{\u001b[39;00msample\u001b[38;5;132;01m}\u001b[39;00m\u001b[33m cannot be empty.\u001b[39m\u001b[33m\"\u001b[39m)\n\u001b[32m     58\u001b[39m     \u001b[38;5;66;03m# Check file type\u001b[39;00m\n\u001b[32m     59\u001b[39m     f_type = \u001b[38;5;28mstr\u001b[39m(paths[\u001b[32m0\u001b[39m])\n",
      "\u001b[31mValueError\u001b[39m: ServiceX result path list for ttbar_trijet cannot be empty."
     ]
    }
   ],
   "source": [
    "ds_name = \"mc23_13p6TeV:mc23_13p6TeV.601237.PhPy8EG_A14_ttbar_hdamp258p75_allhad.deriv.DAOD_PHYSLITE.e8514_s4369_r16083_p6697\"\n",
    "\n",
    "data = to_awk(\n",
    "    deliver(\n",
    "        ServiceXSpec(\n",
    "            Sample=[\n",
    "                Sample(\n",
    "                    Name=\"ttbar_trijet\",\n",
    "                    Dataset=dataset.Rucio(ds_name),\n",
    "                    NFiles=1,\n",
    "                    Query=query,  # type: ignore\n",
    "                )\n",
    "            ]\n",
    "        ),\n",
    "        servicex_name=\"servicex-release-prod\",\n",
    "    )\n",
    ")\n",
    "jets = data[\"ttbar_trijet\"]"
   ]
  },
  {
   "cell_type": "code",
   "execution_count": null,
   "id": "3e6fa8d6",
   "metadata": {},
   "outputs": [],
   "source": []
  }
 ],
 "metadata": {
  "kernelspec": {
   "display_name": ".venv",
   "language": "python",
   "name": "python3"
  },
  "language_info": {
   "codemirror_mode": {
    "name": "ipython",
    "version": 3
   },
   "file_extension": ".py",
   "mimetype": "text/x-python",
   "name": "python",
   "nbconvert_exporter": "python",
   "pygments_lexer": "ipython3",
   "version": "3.13.5"
  }
 },
 "nbformat": 4,
 "nbformat_minor": 5
}
