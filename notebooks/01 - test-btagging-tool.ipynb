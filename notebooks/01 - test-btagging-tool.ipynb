{
 "cells": [
  {
   "cell_type": "markdown",
   "id": "c9ece1f5",
   "metadata": {},
   "source": [
    "# Using the BTagging Tool\n",
    "\n",
    "Getting a tool to work properly is a little tricky. We'll do that here, and then move it into the hints file."
   ]
  },
  {
   "cell_type": "code",
   "execution_count": 15,
   "id": "0bd2bda0",
   "metadata": {},
   "outputs": [],
   "source": [
    "import awkward as ak\n",
    "import vector\n",
    "from func_adl_servicex_xaodr25 import FuncADLQueryPHYSLITE\n",
    "from func_adl_servicex_xaodr25.xAOD.jet_v1 import Jet_v1\n",
    "from servicex_analysis_utils import to_awk\n",
    "from servicex import deliver, ServiceXSpec, Sample, dataset\n",
    "from hist import Hist\n",
    "import matplotlib.pyplot as plt\n",
    "import mplhep as hep\n",
    "import numpy as np\n",
    "from func_adl import ObjectStream, func_adl_callable\n",
    "import ast\n",
    "from typing import Tuple, TypeVar\n"
   ]
  },
  {
   "cell_type": "markdown",
   "id": "4f192c54",
   "metadata": {},
   "source": [
    "Setup the code properly!"
   ]
  },
  {
   "cell_type": "code",
   "execution_count": 7,
   "id": "a046613c",
   "metadata": {},
   "outputs": [],
   "source": [
    "physlite = FuncADLQueryPHYSLITE()"
   ]
  },
  {
   "cell_type": "markdown",
   "id": "4e822ca0",
   "metadata": {},
   "source": [
    "Now configure the tool to run\n",
    "\n",
    "- Taking examples from [use of the JetSelectionTool in the data extractor](https://github.com/gordonwatts/sx_training_fetch/blob/main/calratio_training_data/cpp_xaod_utils.py#L123)\n",
    "- BTaggingSelectionTool info from the [BTagging Docs](https://ftag.docs.cern.ch/calibrations/cdi/interface/btaggingefficiencytool/).\n",
    "- And from some [example code](https://gitlab.cern.ch/atlas/athena/-/blob/main/PhysicsAnalysis/JetTagging/JetTagPerformanceCalibration/xAODBTaggingEfficiency/util/BTaggingSelectionToolTester.cxx).\n",
    "- And a better [working example](https://gitlab.cern.ch/atlas/athena/-/blob/main/PhysicsAnalysis/JetTagging/JetTagPerformanceCalibration/xAODBTaggingEfficiency/util/BTaggingToolsExample.cxx)"
   ]
  },
  {
   "cell_type": "code",
   "execution_count": 8,
   "id": "57a2e770",
   "metadata": {},
   "outputs": [],
   "source": [
    "cut_name = \"FixedCutBEff_77\"\n",
    "tool_name = f\"btag_selection_tool_{cut_name}\"\n",
    "\n",
    "\n",
    "query_base = physlite.MetaData(\n",
    "    {\n",
    "        \"metadata_type\": \"inject_code\",\n",
    "        \"name\": f\"btag_tool_{tool_name}\",\n",
    "        \"header_includes\": [\"xAODBTaggingEfficiency/BTaggingSelectionTool.h\"],\n",
    "        \"private_members\": [f\"IBTaggingSelectionTool *{tool_name};\"],\n",
    "        \"instance_initialization\": [\n",
    "            f'{tool_name}(new BTaggingSelectionTool(\"{tool_name}\"))'\n",
    "        ],\n",
    "        \"initialize_lines\": [\n",
    "            f'ANA_CHECK(asg::setProperty({tool_name}, \"FlvTagCutDefinitionsFileName\", \"13p6TeV/MC23_2025-06-17_GN2v01_v4.root\"));',\n",
    "            # f'ANA_CHECK(asg::setProperty({tool_name}, \"TaggerName\", \"\"));',\n",
    "            f'ANA_CHECK(asg::setProperty({tool_name}, \"OperatingPoint\", \"{cut_name}\"));',\n",
    "            # f'ANA_CHECK(asg::setProperty({tool_name}, \"JetAuthor\", \"AntiKt4EMPFlowJets\"));',  # Default is PFlowJets\n",
    "            # f'ANA_CHECK(asg::setProperty({tool_name}, \"MinPt\", 20000));',  # Default is 20 GeV\n",
    "            f\"ANA_CHECK({tool_name}->initialize());\",\n",
    "        ],\n",
    "        \"link_libraries\": [\"xAODBTaggingEfficiency\"],\n",
    "    }\n",
    ")"
   ]
  },
  {
   "cell_type": "markdown",
   "id": "d8d63dfa",
   "metadata": {},
   "source": [
    "Some other info:\n",
    "\n",
    "* `13p6TeV/MC23_2025-06-17_GN2v01_v4.root` for Run 3 (MC23 files)\n",
    "* `13TeV/MC20_2025-06-17_GN2v01_v4.root` for Run 2 (MC20 files)\n",
    "\n",
    "Possible cut names refer to xx yy zz"
   ]
  },
  {
   "cell_type": "markdown",
   "id": "a8f69afb",
   "metadata": {},
   "source": [
    "Next, define the code that will actually get the tag rate for us."
   ]
  },
  {
   "cell_type": "code",
   "execution_count": 16,
   "id": "5961c75b",
   "metadata": {},
   "outputs": [],
   "source": [
    "T = TypeVar(\"T\")\n",
    "\n",
    "def jet_clean_llp_callback(\n",
    "    s: ObjectStream[T], a: ast.Call\n",
    ") -> Tuple[ObjectStream[T], ast.Call]:\n",
    "    new_s = s.MetaData(\n",
    "        {\n",
    "            \"metadata_type\": \"add_cpp_function\",\n",
    "            \"name\": \"jet_clean_llp\",\n",
    "            \"code\": [f\"bool result = static_cast<bool>({tool_name}->accept(*jet))\"],\n",
    "            \"result\": \"result\",\n",
    "            \"include_files\": [],\n",
    "            \"arguments\": [\"jet\"],\n",
    "            \"return_type\": \"bool\",\n",
    "        }\n",
    "    )\n",
    "    return new_s, a\n",
    "\n",
    "\n",
    "@func_adl_callable(jet_clean_llp_callback)\n",
    "def jet_clean_llp(jet: Jet_v1) -> bool:\n",
    "    \"\"\"Call the jet selection on the jet.\n",
    "\n",
    "    * return true or false if the jet passes the selection cut.\n",
    "\n",
    "    Args:\n",
    "        jet (Jet_v1): The jet we are operating against\n",
    "        value_selector (int): Which value (pixel holes, etc.)\n",
    "\n",
    "    NOTE: This is a dummy function that injects C++ into the object stream to do the\n",
    "    actual work.\n",
    "\n",
    "    Returns:\n",
    "        bool: Did the jet pass?\n",
    "    \"\"\"\n",
    "    ..."
   ]
  },
  {
   "cell_type": "markdown",
   "id": "41921e50",
   "metadata": {},
   "source": [
    "Finally, we can actually execute the query!"
   ]
  },
  {
   "cell_type": "code",
   "execution_count": null,
   "id": "37473e4a",
   "metadata": {},
   "outputs": [],
   "source": []
  }
 ],
 "metadata": {
  "kernelspec": {
   "display_name": ".venv",
   "language": "python",
   "name": "python3"
  },
  "language_info": {
   "codemirror_mode": {
    "name": "ipython",
    "version": 3
   },
   "file_extension": ".py",
   "mimetype": "text/x-python",
   "name": "python",
   "nbconvert_exporter": "python",
   "pygments_lexer": "ipython3",
   "version": "3.13.5"
  }
 },
 "nbformat": 4,
 "nbformat_minor": 5
}
