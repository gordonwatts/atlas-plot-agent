{
 "cells": [
  {
   "cell_type": "markdown",
   "id": "c9ece1f5",
   "metadata": {},
   "source": [
    "# Using the BTagging Tool\n",
    "\n",
    "Getting a tool to work properly is a little tricky. We'll do that here, and then move it into the hints file."
   ]
  },
  {
   "cell_type": "code",
   "execution_count": 1,
   "id": "0bd2bda0",
   "metadata": {},
   "outputs": [],
   "source": [
    "from func_adl_servicex_xaodr25 import FuncADLQueryPHYSLITE\n",
    "from func_adl_servicex_xaodr25.xAOD.jet_v1 import Jet_v1\n",
    "from servicex_analysis_utils import to_awk\n",
    "from servicex import ServiceXSpec, Sample, dataset, deliver\n",
    "from func_adl import ObjectStream, func_adl_callable\n",
    "import ast\n",
    "from typing import Tuple, TypeVar\n",
    "# from servicex_local import deliver, LocalXAODCodegen, DockerScienceImage, SXLocalAdaptor, WSL2ScienceImage"
   ]
  },
  {
   "cell_type": "markdown",
   "id": "4f192c54",
   "metadata": {},
   "source": [
    "Setup the code properly!"
   ]
  },
  {
   "cell_type": "code",
   "execution_count": 2,
   "id": "a046613c",
   "metadata": {},
   "outputs": [],
   "source": [
    "physlite = FuncADLQueryPHYSLITE()"
   ]
  },
  {
   "cell_type": "markdown",
   "id": "4e822ca0",
   "metadata": {},
   "source": [
    "Now configure the tool to run\n",
    "\n",
    "- Taking examples from [use of the JetSelectionTool in the data extractor](https://github.com/gordonwatts/sx_training_fetch/blob/main/calratio_training_data/cpp_xaod_utils.py#L123)\n",
    "- BTaggingSelectionTool info from the [BTagging Docs](https://ftag.docs.cern.ch/calibrations/cdi/interface/btaggingefficiencytool/).\n",
    "- And from some [example code](https://gitlab.cern.ch/atlas/athena/-/blob/main/PhysicsAnalysis/JetTagging/JetTagPerformanceCalibration/xAODBTaggingEfficiency/util/BTaggingSelectionToolTester.cxx).\n",
    "- And a better [working example](https://gitlab.cern.ch/atlas/athena/-/blob/main/PhysicsAnalysis/JetTagging/JetTagPerformanceCalibration/xAODBTaggingEfficiency/util/BTaggingToolsExample.cxx)"
   ]
  },
  {
   "cell_type": "code",
   "execution_count": 3,
   "id": "57a2e770",
   "metadata": {},
   "outputs": [],
   "source": [
    "from dataclasses import dataclass\n",
    "from typing import Callable, Iterable, List, Optional\n",
    "\n",
    "T = TypeVar(\"T\")\n",
    "\n",
    "\n",
    "@dataclass\n",
    "class ToolInfo:\n",
    "    name: str\n",
    "\n",
    "\n",
    "def make_a_tool(\n",
    "    query: ObjectStream[T],\n",
    "    tool_name: str,\n",
    "    tool_type: str,\n",
    "    include_files: Optional[List[str]],\n",
    "    init_lines: List[str] = [],\n",
    ") -> Tuple[ObjectStream[T], ToolInfo]:\n",
    "    \"\"\"\n",
    "    Injects C++ code into the query to initialize a tool of the specified type.\n",
    "\n",
    "    This function sets up the necessary C++ code to create and initialize a tool (such as\n",
    "    BTaggingSelectionTool) in the analysis workflow. The tool will be available in the C++\n",
    "    code under the variable name specified by `tool_name`, which can be referenced in\n",
    "    initialization lines and later code.\n",
    "\n",
    "    Args:\n",
    "        query: The ObjectStream to attach the tool initialization metadata to.\n",
    "        tool_name: The variable name to use for the tool instance in the C++ code.\n",
    "        tool_type: The C++ class name of the tool to instantiate.\n",
    "        include_files: List of C++ header files to include for the tool.\n",
    "        init_lines: List of C++ code lines to run for tool initialization. You can use\n",
    "            `{tool_name}` in these lines to refer to the tool variable. You should\n",
    "            include the call to `ANA_CHECK({tool_name}->initialize());`.\n",
    "\n",
    "    Returns:\n",
    "        A tuple containing:\n",
    "            - The updated ObjectStream with the tool initialization metadata.\n",
    "            - A ToolInfo object containing the tool's name. Pass this to `make_tool_accessor`\n",
    "    \"\"\"\n",
    "    # Define the C++ for the tool initialization\n",
    "\n",
    "    query_base = query.MetaData(\n",
    "        {\n",
    "            \"metadata_type\": \"inject_code\",\n",
    "            \"name\": tool_name,\n",
    "            \"header_includes\": include_files,\n",
    "            \"private_members\": [f\"{tool_type} *{tool_name};\"],\n",
    "            \"instance_initialization\": [\n",
    "                f'{tool_name}(new {tool_type} (\"{tool_name}\"))'\n",
    "            ],\n",
    "            \"initialize_lines\": [l.format(tool_name=tool_name) for l in init_lines],\n",
    "            \"link_libraries\": [\"xAODBTaggingEfficiencyLib\"],\n",
    "        }\n",
    "    )\n",
    "\n",
    "    return query_base, ToolInfo(name=tool_name)\n",
    "\n",
    "\n",
    "def make_tool_accessor(\n",
    "    t_info: ToolInfo,\n",
    "    function_name: str,\n",
    "    source_code: List[str],\n",
    "    arguments: Iterable[Tuple[str, type]],\n",
    "    return_type_cpp: str,\n",
    "    return_type_python: str\n",
    "):\n",
    "    \"\"\"\n",
    "    Creates a Python-callable accessor for a C++ tool in the func_adl query.\n",
    "\n",
    "    This function generates a Python function that, when called in a func_adl query,\n",
    "    injects C++ code to call a method or function on a C++ tool instance (such as\n",
    "    BTaggingSelectionTool). The accessor function can be used in the query to access\n",
    "    tool functionality as if it were a regular Python function.\n",
    "\n",
    "    Args:\n",
    "        t_info: ToolInfo object containing the tool's variable name.\n",
    "        function_name: Name of the accessor function (used in C++ and Python).\n",
    "        source_code: List of C++ code lines to execute for the accessor. You can use\n",
    "            `{tool_name}` in these lines to refer to the tool variable.\n",
    "        arguments: Iterable of (argument_name, type) tuples specifying the arguments\n",
    "            for the accessor function.\n",
    "        return_type_cpp: The C++ return type of the accessor function.\n",
    "        return_type_python: The Python return type annotation as a string.\n",
    "\n",
    "    Returns:\n",
    "        A Python function that can be used in a func_adl query to access the tool.\n",
    "        NOTE: YOU MUST use the same name as `function_name` to store this:\n",
    "\n",
    "            `my_name = make_tool_accessor(.., function_name=\"my_name\", ...)`\n",
    "    \"\"\"\n",
    "    # Define the callback function that `func_adl` will use to inject the calling code.\n",
    "    def tool_callback(\n",
    "        s: ObjectStream[T], a: ast.Call\n",
    "    ) -> Tuple[ObjectStream[T], ast.Call]:\n",
    "        new_s = s.MetaData(\n",
    "            {\n",
    "                \"metadata_type\": \"add_cpp_function\",\n",
    "                \"name\": function_name,\n",
    "                \"code\": [\n",
    "                    \"double result;\",\n",
    "                    *[l.format(tool_name=t_info.name) for l in source_code],\n",
    "                ],\n",
    "                \"result\": \"result\",\n",
    "                \"include_files\": [],\n",
    "                \"arguments\": [a[0] for a in arguments],\n",
    "                \"return_type\": return_type_cpp,\n",
    "            }\n",
    "        )\n",
    "        return new_s, a\n",
    "\n",
    "    # Build a function type-shed that tells `func_adl` what the function signature is.\n",
    "    # This is used to generate the correct C++ code for the function.\n",
    "    def tool_call(**arg_dict):\n",
    "        \"\"\"\n",
    "        NOTE: This is a dummy function that injects C++ into the object stream to do the\n",
    "        actual work.\n",
    "        \"\"\"\n",
    "        ...\n",
    "    tool_call.__name__ = function_name\n",
    "    tool_call.__annotations__['return'] = eval(return_type_python)\n",
    "\n",
    "    return func_adl_callable(tool_callback)(tool_call)"
   ]
  },
  {
   "cell_type": "markdown",
   "id": "724d0b25",
   "metadata": {},
   "source": [
    "Define the b-tagging selection tool, and the two ways we will access it."
   ]
  },
  {
   "cell_type": "code",
   "execution_count": 4,
   "id": "24d7777f",
   "metadata": {},
   "outputs": [],
   "source": [
    "query_base, tag_tool_info = make_a_tool(\n",
    "    physlite,\n",
    "    \"btag_discriminator\",\n",
    "    \"BTaggingSelectionTool\",\n",
    "    include_files=[\"xAODBTaggingEfficiency/BTaggingSelectionTool.h\"],\n",
    "    init_lines=[\n",
    "        'ANA_CHECK(asg::setProperty({tool_name}, \"OperatingPoint\", \"FixedCutBEff_77\"));',\n",
    "        \"ANA_CHECK({tool_name}->initialize());\",\n",
    "    ],\n",
    ")\n",
    "\n",
    "tag_weight = make_tool_accessor(\n",
    "    tag_tool_info,\n",
    "    function_name=\"tag_weight\",\n",
    "    source_code=[\"ANA_CHECK({tool_name}->getTaggerWeight(*jet, result, false));\"],\n",
    "    arguments=[(\"jet\", Jet_v1)],\n",
    "    return_type_cpp=\"double\",\n",
    "    return_type_python=\"float\",\n",
    ")\n",
    "\n",
    "jet_is_tagged = make_tool_accessor(\n",
    "    tag_tool_info,\n",
    "    function_name=\"jet_is_tagged\",\n",
    "    source_code=[\n",
    "        \"result = static_cast<bool>({tool_name}->accept(*jet));\"\n",
    "    ],\n",
    "    arguments=[(\"jet\", Jet_v1)],\n",
    "    return_type_cpp=\"bool\",\n",
    "    return_type_python=\"bool\",\n",
    ")"
   ]
  },
  {
   "cell_type": "markdown",
   "id": "d8d63dfa",
   "metadata": {},
   "source": [
    "Some other info:\n",
    "\n",
    "* `13p6TeV/MC23_2025-06-17_GN2v01_v4.root` for Run 3 (MC23 files)\n",
    "* `13TeV/MC20_2025-06-17_GN2v01_v4.root` for Run 2 (MC20 files)\n",
    "\n",
    "It seems that we should not specify the btagging file - use whatever is default in the release."
   ]
  },
  {
   "cell_type": "markdown",
   "id": "41921e50",
   "metadata": {},
   "source": [
    "Finally, we can actually execute the query!"
   ]
  },
  {
   "cell_type": "code",
   "execution_count": 5,
   "id": "37473e4a",
   "metadata": {},
   "outputs": [],
   "source": [
    "query = (\n",
    "    query_base.SelectMany(lambda event: event.Jets())\n",
    "    .Where(lambda j: j.pt() > 20000 and abs(j.eta()) < 2)\n",
    "    .Select(\n",
    "        lambda j: {\n",
    "            \"is_tagged\": jet_is_tagged(j),\n",
    "            \"weight\": tag_weight(j),\n",
    "            \"pt\": j.pt(),\n",
    "            \"eta\": j.eta(),\n",
    "        }\n",
    "    )\n",
    ")"
   ]
  },
  {
   "cell_type": "markdown",
   "id": "ce494cb5",
   "metadata": {},
   "source": [
    "And now we can run on a data sample!"
   ]
  },
  {
   "cell_type": "code",
   "execution_count": 6,
   "id": "0beca722",
   "metadata": {},
   "outputs": [
    {
     "data": {
      "application/vnd.jupyter.widget-view+json": {
       "model_id": "71b22fc8fbf84d7b9828878ef4519996",
       "version_major": 2,
       "version_minor": 0
      },
      "text/plain": [
       "Output()"
      ]
     },
     "metadata": {},
     "output_type": "display_data"
    },
    {
     "data": {
      "text/html": [
       "<pre style=\"white-space:pre;overflow-x:auto;line-height:normal;font-family:Menlo,'DejaVu Sans Mono',consolas,'Courier New',monospace\"></pre>\n"
      ],
      "text/plain": []
     },
     "metadata": {},
     "output_type": "display_data"
    }
   ],
   "source": [
    "ds_name = \"mc23_13p6TeV:mc23_13p6TeV.601237.PhPy8EG_A14_ttbar_hdamp258p75_allhad.deriv.DAOD_PHYSLITE.e8514_s4369_r16083_p6697\"\n",
    "data = to_awk(\n",
    "    deliver(\n",
    "        ServiceXSpec(\n",
    "            Sample=[\n",
    "                Sample(\n",
    "                    Name=\"ttbar_trijet\",\n",
    "                    Dataset=dataset.Rucio(ds_name),\n",
    "                    NFiles=1,\n",
    "                    Query=query,  # type: ignore\n",
    "                )\n",
    "            ]\n",
    "        ),\n",
    "    )\n",
    ")\n",
    "jets = data[\"ttbar_trijet\"]"
   ]
  },
  {
   "cell_type": "code",
   "execution_count": 7,
   "id": "3e6fa8d6",
   "metadata": {},
   "outputs": [
    {
     "data": {
      "text/html": [
       "<pre>[{is_tagged: True, weight: 3.93, pt: 1.79e+05, eta: 0.433},\n",
       " {is_tagged: False, weight: -4.36, pt: 1.3e+05, eta: 0.204},\n",
       " {is_tagged: False, weight: -4.71, pt: 1.22e+05, eta: -1.46},\n",
       " {is_tagged: False, weight: -5.84, pt: 1.13e+05, eta: -0.89},\n",
       " {is_tagged: True, weight: 5.66, pt: 7.18e+04, eta: -1.65},\n",
       " {is_tagged: False, weight: -5.65, pt: 4.36e+04, eta: 1.18},\n",
       " {is_tagged: False, weight: 0.795, pt: 1.31e+05, eta: -0.919},\n",
       " {is_tagged: False, weight: -3.66, pt: 9.39e+04, eta: -0.511},\n",
       " {is_tagged: False, weight: -4.39, pt: 7.28e+04, eta: -1.41},\n",
       " {is_tagged: False, weight: -0.806, pt: 6.33e+04, eta: -0.195},\n",
       " ...,\n",
       " {is_tagged: False, weight: -2.89, pt: 3.05e+04, eta: 0.237},\n",
       " {is_tagged: False, weight: -3.22, pt: 2.17e+04, eta: 0.704},\n",
       " {is_tagged: False, weight: -1.15, pt: 2.11e+04, eta: -0.513},\n",
       " {is_tagged: False, weight: -4.33, pt: 1.48e+05, eta: 1.85},\n",
       " {is_tagged: False, weight: -3.13, pt: 1.25e+05, eta: -0.155},\n",
       " {is_tagged: True, weight: 8.33, pt: 8.57e+04, eta: -0.744},\n",
       " {is_tagged: True, weight: 2.35, pt: 6.02e+04, eta: 1.4},\n",
       " {is_tagged: False, weight: -2.53, pt: 2.47e+04, eta: -1.3},\n",
       " {is_tagged: False, weight: -4.77, pt: 2.29e+04, eta: -1.06}]\n",
       "---------------------------------------------------------------\n",
       "backend: cpu\n",
       "nbytes: 8.1 MB\n",
       "type: 323590 * {\n",
       "    is_tagged: bool,\n",
       "    weight: float64,\n",
       "    pt: float64,\n",
       "    eta: float64\n",
       "}</pre>"
      ],
      "text/plain": [
       "<Array [{is_tagged: True, ...}, ..., {...}] type='323590 * {is_tagged: bool...'>"
      ]
     },
     "execution_count": 7,
     "metadata": {},
     "output_type": "execute_result"
    }
   ],
   "source": [
    "jets"
   ]
  },
  {
   "cell_type": "code",
   "execution_count": null,
   "id": "224585bf",
   "metadata": {},
   "outputs": [],
   "source": []
  }
 ],
 "metadata": {
  "kernelspec": {
   "display_name": ".venv",
   "language": "python",
   "name": "python3"
  },
  "language_info": {
   "codemirror_mode": {
    "name": "ipython",
    "version": 3
   },
   "file_extension": ".py",
   "mimetype": "text/x-python",
   "name": "python",
   "nbconvert_exporter": "python",
   "pygments_lexer": "ipython3",
   "version": "3.13.5"
  }
 },
 "nbformat": 4,
 "nbformat_minor": 5
}
